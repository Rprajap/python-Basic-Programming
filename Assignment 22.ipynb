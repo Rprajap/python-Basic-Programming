{
 "cells": [
  {
   "cell_type": "markdown",
   "id": "173dafa6",
   "metadata": {},
   "source": [
    "**Q1**. Create a function that takes three parameters where:\n",
    "\n",
    "    x is the start of the range (inclusive).\n",
    "    y is the end of the range (inclusive).\n",
    "    n is the divisor to be checked against.\n",
    "\n",
    "Return an ordered list with numbers in the range that are divisible by the third parameter n. Return an empty list if there are no numbers that are divisible by n.\n",
    "\n",
    "Examples\n",
    "\n",
    "list_operation(1, 10, 3) ➞ [3, 6, 9]\\ list_operation(7, 9, 2) ➞ [8]\\ list_operation(15, 20, 7) ➞ []\n",
    "\n",
    "**Answer**:-"
   ]
  },
  {
   "cell_type": "code",
   "execution_count": 9,
   "id": "1409ad86",
   "metadata": {},
   "outputs": [
    {
     "name": "stdout",
     "output_type": "stream",
     "text": [
      "Enter the start of the range:7\n",
      "Enter the End of the range:9\n",
      "Enter a devisor to be  Check  agasinst : 2\n",
      "[8]\n"
     ]
    }
   ],
   "source": [
    "def list_operation(x, y, n):\n",
    "    \n",
    "    divisor = []\n",
    "    nonDiv = []\n",
    "    for i in range(x, y+1):\n",
    "        if i % n == 0:\n",
    "            divisor.append(i)\n",
    "    return divisor\n",
    "x=int(input('Enter the start of the range:'))\n",
    "y=int(input('Enter the End of the range:'))\n",
    "n=int(input('Enter a devisor to be  Check  agasinst : '))\n",
    "print(list_operation(x,y,n))"
   ]
  },
  {
   "cell_type": "markdown",
   "id": "2ce2c3a4",
   "metadata": {},
   "source": [
    "**Q2**. Create a function that takes in two lists and returns True if the second list follows the first list by one element, and False otherwise. In other words, determine if the second list is the first list shifted to the right by 1.\n",
    "\n",
    "Examples\n",
    "\n",
    "simon_says([1, 2], [5, 1]) ➞ True\\ simon_says([1, 2], [5, 5]) ➞ False\\ simon_says([1, 2, 3, 4, 5], [0, 1, 2, 3, 4]) ➞ True\\ simon_says([1, 2, 3, 4, 5], [5, 5, 1, 2, 3]) ➞ False\n",
    "\n",
    "Notes\n",
    "\n",
    "   * Both input lists will be of the same length, and will have a minimum length of 2.\n",
    "   * The values of the 0-indexed element in the second list and the n-1th indexed element in the first list do not matter.\n",
    "\n",
    "**Answer**:-"
   ]
  },
  {
   "cell_type": "code",
   "execution_count": 16,
   "id": "b2a18122",
   "metadata": {},
   "outputs": [],
   "source": [
    "def simon_says(ls1, ls2):\n",
    "    \n",
    "    if ls1[0:len(ls1)-1] == ls2[1:len(ls2)]:\n",
    "        \n",
    "        return True\n",
    "    \n",
    "    return False"
   ]
  },
  {
   "cell_type": "code",
   "execution_count": 17,
   "id": "13402147",
   "metadata": {},
   "outputs": [
    {
     "data": {
      "text/plain": [
       "True"
      ]
     },
     "execution_count": 17,
     "metadata": {},
     "output_type": "execute_result"
    }
   ],
   "source": [
    "simon_says([1, 2, 3, 4, 5], [0, 1, 2, 3, 4])"
   ]
  },
  {
   "cell_type": "markdown",
   "id": "a3880319",
   "metadata": {},
   "source": [
    "**Q3**. A group of friends have decided to start a secret society. The name will be the first letter of each of their names, sorted in alphabetical order.\n",
    "\n",
    "Create a function that takes in a list of names and returns the name of the secret society.\n",
    "\n",
    "Examples\n",
    "\n",
    "society_name([\"Adam\", \"Sarah\", \"Malcolm\"]) ➞ \"AMS\"\\ society_name([\"Harry\", \"Newt\", \"Luna\", \"Cho\"]) ➞ \"CHLN\"\\ society_name([\"Phoebe\", \"Chandler\", \"Rachel\", \"Ross\", \"Monica\", \"Joey\"]) ➞ \"CJMPRR\"\n",
    "\n",
    "**Answer**:-"
   ]
  },
  {
   "cell_type": "code",
   "execution_count": 18,
   "id": "45803451",
   "metadata": {},
   "outputs": [],
   "source": [
    "def society_name(lst):\n",
    "    \n",
    "    S_Name = ''.join([i[0] for i in sorted(lst)])\n",
    "    \n",
    "    return S_Name"
   ]
  },
  {
   "cell_type": "code",
   "execution_count": 19,
   "id": "460265e4",
   "metadata": {},
   "outputs": [
    {
     "data": {
      "text/plain": [
       "'CHLN'"
      ]
     },
     "execution_count": 19,
     "metadata": {},
     "output_type": "execute_result"
    }
   ],
   "source": [
    "society_name([\"Harry\", \"Newt\", \"Luna\", \"Cho\"])"
   ]
  },
  {
   "cell_type": "markdown",
   "id": "aa2207cb",
   "metadata": {},
   "source": [
    "**Q4** An isogram is a word that has no duplicate letters. Create a function that takes a string and returns either True or False depending on whether or not it's an \"isogram\".\n",
    "\n",
    "Examples\n",
    "\n",
    "is_isogram(\"Algorism\") ➞ True\n",
    "\n",
    "is_isogram(\"PasSword\") ➞ False\\\n",
    "Not case sensitive.\n",
    "\n",
    "is_isogram(\"Consecutive\") ➞ False\n",
    "\n",
    "Notes\n",
    "\n",
    "    Ignore letter case (should not be case sensitive).\n",
    "    All test cases contain valid one word strings.\n",
    "\n",
    "**Answer**:-"
   ]
  },
  {
   "cell_type": "code",
   "execution_count": 20,
   "id": "82f41495",
   "metadata": {},
   "outputs": [],
   "source": [
    "def is_isogram(s):\n",
    "    \n",
    "    for i in range(len(s)):\n",
    "        if s.lower().count(s[i]) > 1:\n",
    "            return False\n",
    "    else:\n",
    "        return True"
   ]
  },
  {
   "cell_type": "code",
   "execution_count": 22,
   "id": "bb5d6c56",
   "metadata": {},
   "outputs": [
    {
     "data": {
      "text/plain": [
       "True"
      ]
     },
     "execution_count": 22,
     "metadata": {},
     "output_type": "execute_result"
    }
   ],
   "source": [
    "is_isogram('Algorism')"
   ]
  },
  {
   "cell_type": "markdown",
   "id": "1670183b",
   "metadata": {},
   "source": [
    "**Q5**. Create a function that takes a string and returns True or False, depending on whether the characters are in order or not.\n",
    "\n",
    "Examples\n",
    "\n",
    "is_in_order(\"abc\") ➞ True\\ is_in_order(\"edabit\") ➞ False\\ is_in_order(\"123\") ➞ True\\ is_in_order(\"xyzz\") ➞ True\n",
    "\n",
    "Notes\n",
    "\n",
    "You don't have to handle empty strings.\n",
    "\n",
    "**Answer**:-"
   ]
  },
  {
   "cell_type": "code",
   "execution_count": 23,
   "id": "ef2560d7",
   "metadata": {},
   "outputs": [],
   "source": [
    "def is_in_order(s):\n",
    "    \n",
    "    n = len(s)\n",
    "    c = [s[i] for i in range(len(s))]\n",
    "    c.sort()\n",
    "    \n",
    "    for i in range(n):\n",
    "        if c[i] != s[i]:\n",
    "            \n",
    "            return False\n",
    "        \n",
    "    return True"
   ]
  },
  {
   "cell_type": "code",
   "execution_count": 24,
   "id": "dae53231",
   "metadata": {},
   "outputs": [
    {
     "data": {
      "text/plain": [
       "True"
      ]
     },
     "execution_count": 24,
     "metadata": {},
     "output_type": "execute_result"
    }
   ],
   "source": [
    "is_in_order(\"xyzz\")"
   ]
  }
 ],
 "metadata": {
  "kernelspec": {
   "display_name": "Python 3 (ipykernel)",
   "language": "python",
   "name": "python3"
  },
  "language_info": {
   "codemirror_mode": {
    "name": "ipython",
    "version": 3
   },
   "file_extension": ".py",
   "mimetype": "text/x-python",
   "name": "python",
   "nbconvert_exporter": "python",
   "pygments_lexer": "ipython3",
   "version": "3.9.7"
  }
 },
 "nbformat": 4,
 "nbformat_minor": 5
}

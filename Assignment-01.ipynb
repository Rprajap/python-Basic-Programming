{
 "cells": [
  {
   "cell_type": "markdown",
   "id": "6a077ec1",
   "metadata": {},
   "source": [
    "**Q1.** .\tWrite a Python program to print \"Hello Python\"?"
   ]
  },
  {
   "cell_type": "markdown",
   "id": "09548dc6",
   "metadata": {},
   "source": [
    "**Answer**:-"
   ]
  },
  {
   "cell_type": "code",
   "execution_count": 1,
   "id": "bca670e2",
   "metadata": {},
   "outputs": [
    {
     "name": "stdout",
     "output_type": "stream",
     "text": [
      "Hello Python\n"
     ]
    }
   ],
   "source": [
    "print(\"Hello Python\")"
   ]
  },
  {
   "cell_type": "markdown",
   "id": "c9ebbf15",
   "metadata": {},
   "source": [
    "**Q2** Write a Python program to do arithmetical operations addition and division.?"
   ]
  },
  {
   "cell_type": "markdown",
   "id": "4713e399",
   "metadata": {},
   "source": [
    "**Answer**:-"
   ]
  },
  {
   "cell_type": "code",
   "execution_count": 4,
   "id": "b4fe14e4",
   "metadata": {},
   "outputs": [
    {
     "name": "stdout",
     "output_type": "stream",
     "text": [
      "Enter Firs Number20\n",
      "Enter second Number,30\n",
      " The sum of 20 and 30 is 50\n",
      " The Division of 20 by 30 is 0.6666666666666666\n"
     ]
    }
   ],
   "source": [
    "num1=int(input(\"Enter Firs Number\",))\n",
    "num2= int(input('Enter second Number,'))\n",
    "sum=(num1+num2)\n",
    "Division=(num1/num2)\n",
    "\n",
    "print(f\" The sum of {num1} and {num2} is {sum}\")\n",
    "print(f\" The Division of {num1} by {num2} is {Division}\")"
   ]
  },
  {
   "cell_type": "markdown",
   "id": "a21a8de3",
   "metadata": {},
   "source": [
    "**Q3**.\tWrite a Python program to find the area of a triangle?\n",
    "\n",
    "**Answer** :-"
   ]
  },
  {
   "cell_type": "code",
   "execution_count": 10,
   "id": "965962bb",
   "metadata": {},
   "outputs": [
    {
     "name": "stdout",
     "output_type": "stream",
     "text": [
      "Enter the First side of a Triangle : 5\n",
      "Enter the Second side of b Triangle : 6\n",
      "Enter the Third side of c Triangle : 7\n",
      "Area of Trangle have side 5,6 and 7 is 14.696938456699069\n"
     ]
    }
   ],
   "source": [
    "a = int(input('Enter the First side of a Triangle : '))\n",
    "b = int(input('Enter the Second side of b Triangle : '))\n",
    "c = int(input('Enter the Third side of c Triangle : '))\n",
    "# calculate the Perimeter\n",
    "Perimeter = a + b + c\n",
    "# calculate the semi-perimeter\n",
    "s = Perimeter / 2\n",
    "# calculate the area of trangle\n",
    "Area = (s *(s-a)*(s-b)*(s-c)) **0.5\n",
    "print(f\"Area of Trangle have side {a},{b} and {c} is {Area}\")"
   ]
  },
  {
   "cell_type": "markdown",
   "id": "2dc473b7",
   "metadata": {},
   "source": [
    "**Q4**. Write a Python program to swap two variables?\n",
    "\n",
    "**Answer**:-"
   ]
  },
  {
   "cell_type": "code",
   "execution_count": 11,
   "id": "2ed2ec0c",
   "metadata": {},
   "outputs": [
    {
     "name": "stdout",
     "output_type": "stream",
     "text": [
      "Enter a value for x is : 10\n",
      "Enter a value for y is : 20\n",
      " The swap value of x is : 20\n",
      " The swap value of y is : 10\n"
     ]
    }
   ],
   "source": [
    "x = input(\"Enter a value for x is : \")\n",
    "y = input(\"Enter a value for y is : \")\n",
    "z = x\n",
    "x = y\n",
    "y = z\n",
    "\n",
    "print(' The swap value of x is : {}'.format(x))\n",
    "print(' The swap value of y is : {}'.format(y))"
   ]
  },
  {
   "cell_type": "markdown",
   "id": "1920242c",
   "metadata": {},
   "source": [
    "**Q5**. Write a Python program to generate a random number?\n",
    "\n",
    "**Answer**:-"
   ]
  },
  {
   "cell_type": "code",
   "execution_count": 13,
   "id": "cce070c4",
   "metadata": {},
   "outputs": [
    {
     "name": "stdout",
     "output_type": "stream",
     "text": [
      "19\n"
     ]
    }
   ],
   "source": [
    "import random\n",
    "print(random.randint(10,20))"
   ]
  }
 ],
 "metadata": {
  "kernelspec": {
   "display_name": "Python 3 (ipykernel)",
   "language": "python",
   "name": "python3"
  },
  "language_info": {
   "codemirror_mode": {
    "name": "ipython",
    "version": 3
   },
   "file_extension": ".py",
   "mimetype": "text/x-python",
   "name": "python",
   "nbconvert_exporter": "python",
   "pygments_lexer": "ipython3",
   "version": "3.9.7"
  }
 },
 "nbformat": 4,
 "nbformat_minor": 5
}

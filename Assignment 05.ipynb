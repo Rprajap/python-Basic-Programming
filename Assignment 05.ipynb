{
 "cells": [
  {
   "cell_type": "markdown",
   "id": "36d19c0b",
   "metadata": {},
   "source": [
    "**Q1**. Write a Python Program to Find LCM?\n",
    "\n",
    "**Answer**:-"
   ]
  },
  {
   "cell_type": "code",
   "execution_count": 1,
   "id": "5ca51d6c",
   "metadata": {},
   "outputs": [
    {
     "name": "stdout",
     "output_type": "stream",
     "text": [
      "Enter 1st Number : 12\n",
      "Enter 2nd Number : 15\n",
      "The L.C.M. is 60\n"
     ]
    }
   ],
   "source": [
    "# Python Program to find the L.C.M. of two input number\n",
    "def compute_lcm(x, y):\n",
    "    '''\n",
    "    This function will compute the L.C.M of two Numbers\n",
    "    '''\n",
    "# choose the greater number\n",
    "    if x > y:\n",
    "        greater = x\n",
    "    else:\n",
    "        greater = y\n",
    "\n",
    "    while(True):\n",
    "        if((greater % x == 0) and (greater % y == 0)):\n",
    "            lcm = greater\n",
    "            break\n",
    "        greater += 1\n",
    "\n",
    "    return lcm\n",
    "\n",
    "num1 = int(input(\"Enter 1st Number : \"))\n",
    "num2 = int(input(\"Enter 2nd Number : \"))\n",
    "\n",
    "print(\"The L.C.M. is\", compute_lcm(num1, num2))"
   ]
  },
  {
   "cell_type": "markdown",
   "id": "c9e4d0d3",
   "metadata": {},
   "source": [
    "**Q2** Write a Python Program to Find HCF?\n",
    "\n",
    "**Answer**:-"
   ]
  },
  {
   "cell_type": "code",
   "execution_count": 2,
   "id": "31d361c7",
   "metadata": {},
   "outputs": [
    {
     "name": "stdout",
     "output_type": "stream",
     "text": [
      "Enter 1st Number : 12\n",
      "Enter 2nd Number : 15\n",
      "The H.C.F. is 3\n"
     ]
    }
   ],
   "source": [
    "def calculate_hcf(x,y):  \n",
    "    # selecting the smaller number  \n",
    "    if x > y:  \n",
    "        smaller = y  \n",
    "    else:  \n",
    "        smaller = x  \n",
    "    for i in range(1,smaller + 1):  \n",
    "        if((x % i == 0) and (y % i == 0)):  \n",
    "            hcf = i  \n",
    "    return hcf\n",
    "num1 = int(input(\"Enter 1st Number : \"))\n",
    "num2 = int(input(\"Enter 2nd Number : \"))\n",
    "print(\"The H.C.F. is\", calculate_hcf(num1, num2))"
   ]
  },
  {
   "cell_type": "markdown",
   "id": "68d79ebf",
   "metadata": {},
   "source": [
    "**Q3** Write a Python Program to Convert Decimal to Binary, Octal and Hexadecimal?\n",
    "\n",
    "**Answer**:-"
   ]
  },
  {
   "cell_type": "code",
   "execution_count": 11,
   "id": "3a876907",
   "metadata": {},
   "outputs": [
    {
     "name": "stdout",
     "output_type": "stream",
     "text": [
      "Enter the Number : 15\n",
      "Decimal to  Binary is 0b1111\n",
      "Decimal to Octa is 0o17\n",
      "Decimal to Hexadecimal is 0xf\n"
     ]
    }
   ],
   "source": [
    "def decimal_to_others(Number):\n",
    "    \"\"\"\n",
    "    This function will convert and print Decimal value to Binary, Octal and Hexadecimal\n",
    "    \"\"\"\n",
    "    print(\"Decimal to  Binary is\", bin(Number))\n",
    "    print(\"Decimal to Octa is\" , oct(Number))\n",
    "    print(\"Decimal to Hexadecimal is\", hex(Number))\n",
    "    return\n",
    "\n",
    "Number = int(input(\"Enter the Number : \"))\n",
    "decimal_to_others(Number)"
   ]
  },
  {
   "cell_type": "markdown",
   "id": "7c66e89f",
   "metadata": {},
   "source": [
    "**Q4** Write a Python Program To Find ASCII value of a character?\n",
    "\n",
    "**Answer**:-"
   ]
  },
  {
   "cell_type": "code",
   "execution_count": 13,
   "id": "87efa8b0",
   "metadata": {},
   "outputs": [
    {
     "name": "stdout",
     "output_type": "stream",
     "text": [
      "Enter any character: Ramdas\n",
      "Enter any character: R\n",
      "\n",
      "The ASCII value of R is 82.\n"
     ]
    }
   ],
   "source": [
    "def char_to_ASCII(char):\n",
    "    \n",
    "    \"\"\"\n",
    "    This function will print the ASCII value of any character.\n",
    "    \"\"\"\n",
    "    print(\"\\nThe ASCII value of {} is {}.\".format(char,ord(char)))\n",
    "    \n",
    "    return\n",
    "\n",
    "while True:\n",
    "    char = input(\"Enter any character: \")\n",
    "    if len(char) > 1 or len(char) == 0:\n",
    "        continue\n",
    "    else:\n",
    "        break\n",
    "char_to_ASCII(char)"
   ]
  },
  {
   "cell_type": "markdown",
   "id": "bb582c29",
   "metadata": {},
   "source": [
    "**Q5** Write a Python Program to Make a Simple Calculator with 4 basic mathematical operations?\n",
    "\n",
    "**Answer**:-"
   ]
  },
  {
   "cell_type": "code",
   "execution_count": 14,
   "id": "430587bd",
   "metadata": {},
   "outputs": [
    {
     "name": "stdout",
     "output_type": "stream",
     "text": [
      "Select operation.\n",
      "1.Add\n",
      "2.Subtract\n",
      "3.Multiply\n",
      "4.Divide\n",
      "Enter choice(1/2/3/4): 2\n",
      "Enter first number: 20\n",
      "Enter second number: 10\n",
      "20.0 - 10.0 = 10.0\n",
      "Let's do next calculation? (yes/no): no\n"
     ]
    }
   ],
   "source": [
    "# This function adds two numbers\n",
    "def add(x, y):\n",
    "    return x + y\n",
    "\n",
    "# This function subtracts two numbers\n",
    "def subtract(x, y):\n",
    "    return x - y\n",
    "\n",
    "# This function multiplies two numbers\n",
    "def multiply(x, y):\n",
    "    return x * y\n",
    "\n",
    "# This function divides two numbers\n",
    "def divide(x, y):\n",
    "    return x / y\n",
    "\n",
    "\n",
    "print(\"Select operation.\")\n",
    "print(\"1.Add\")\n",
    "print(\"2.Subtract\")\n",
    "print(\"3.Multiply\")\n",
    "print(\"4.Divide\")\n",
    "\n",
    "while True:\n",
    "    # take input from the user\n",
    "    choice = input(\"Enter choice(1/2/3/4): \")\n",
    "\n",
    "    # check if choice is one of the four options\n",
    "    if choice in ('1', '2', '3', '4'):\n",
    "        num1 = float(input(\"Enter first number: \"))\n",
    "        num2 = float(input(\"Enter second number: \"))\n",
    "\n",
    "        if choice == '1':\n",
    "            print(num1, \"+\", num2, \"=\", add(num1, num2))\n",
    "\n",
    "        elif choice == '2':\n",
    "            print(num1, \"-\", num2, \"=\", subtract(num1, num2))\n",
    "\n",
    "        elif choice == '3':\n",
    "            print(num1, \"*\", num2, \"=\", multiply(num1, num2))\n",
    "\n",
    "        elif choice == '4':\n",
    "            print(num1, \"/\", num2, \"=\", divide(num1, num2))\n",
    "        \n",
    "        # check if user wants another calculation\n",
    "        # break the while loop if answer is no\n",
    "        next_calculation = input(\"Let's do next calculation? (yes/no): \")\n",
    "        if next_calculation == \"no\":\n",
    "            break\n",
    "    \n",
    "    else:\n",
    "        print(\"Invalid Input\")"
   ]
  }
 ],
 "metadata": {
  "kernelspec": {
   "display_name": "Python 3 (ipykernel)",
   "language": "python",
   "name": "python3"
  },
  "language_info": {
   "codemirror_mode": {
    "name": "ipython",
    "version": 3
   },
   "file_extension": ".py",
   "mimetype": "text/x-python",
   "name": "python",
   "nbconvert_exporter": "python",
   "pygments_lexer": "ipython3",
   "version": "3.9.7"
  }
 },
 "nbformat": 4,
 "nbformat_minor": 5
}

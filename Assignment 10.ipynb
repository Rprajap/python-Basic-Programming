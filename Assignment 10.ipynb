{
 "cells": [
  {
   "cell_type": "markdown",
   "id": "1d368044",
   "metadata": {},
   "source": [
    "**Q1** Write a Python program to find sum of elements in list?\n",
    "\n",
    "**Answer**:-\n"
   ]
  },
  {
   "cell_type": "code",
   "execution_count": 1,
   "id": "b23e8522",
   "metadata": {},
   "outputs": [
    {
     "name": "stdout",
     "output_type": "stream",
     "text": [
      "Please enter the Total Number of List Elements : 4\n",
      "Please enter the Value of 1 Element : 12\n",
      "Please enter the Value of 2 Element : 15\n",
      "Please enter the Value of 3 Element : 13\n",
      "Please enter the Value of 4 Element : 14\n",
      "\n",
      " The Sum of All Element in this List is :  54\n"
     ]
    }
   ],
   "source": [
    "NumList = []\n",
    "\n",
    "Number = int(input(\"Please enter the Total Number of List Elements : \"))\n",
    "for i in range(1, Number + 1):\n",
    "    value = int(input(\"Please enter the Value of %d Element : \" %i))\n",
    "    NumList.append(value)\n",
    "\n",
    "total = sum(NumList)\n",
    "\n",
    "print(\"\\n The Sum of All Element in this List is : \", total)"
   ]
  },
  {
   "cell_type": "markdown",
   "id": "1ab41d69",
   "metadata": {},
   "source": [
    "**Q2** Write a Python program to Multiply all numbers in the list?\n",
    "\n",
    "**Answer**:-"
   ]
  },
  {
   "cell_type": "code",
   "execution_count": 2,
   "id": "68f54b22",
   "metadata": {},
   "outputs": [
    {
     "name": "stdout",
     "output_type": "stream",
     "text": [
      "Please enter the Total Number of List Elements : 3\n",
      "Please enter the Value of 1 Element : 10\n",
      "Please enter the Value of 2 Element : 1\n",
      "Please enter the Value of 3 Element : 12\n",
      "\n",
      " The Multiplication of All Element in this [10, 1, 12] is : 120\n"
     ]
    }
   ],
   "source": [
    "def Multiply_of_list(NumList):\n",
    "    \"This function will return the multiplication of all elements of an integer List\"\n",
    "    total = 1\n",
    "    for i in NumList:\n",
    "         total = total * i\n",
    "    return total\n",
    "\n",
    "NumList = []\n",
    "Number = int(input(\"Please enter the Total Number of List Elements : \"))\n",
    "for i in range(1, Number + 1):\n",
    "    value = int(input(\"Please enter the Value of %d Element : \" %i))\n",
    "    NumList.append(value)\n",
    "\n",
    "total = Multiply_of_list(NumList)\n",
    "print(f\"\\n The Multiplication of All Element in this {NumList} is : {total}\")"
   ]
  },
  {
   "cell_type": "markdown",
   "id": "a316a825",
   "metadata": {},
   "source": [
    "**Q3** Write a Python program to find smallest number in a list?\n",
    "\n",
    "**Answer**:-"
   ]
  },
  {
   "cell_type": "code",
   "execution_count": 3,
   "id": "8060435d",
   "metadata": {},
   "outputs": [
    {
     "name": "stdout",
     "output_type": "stream",
     "text": [
      "Enter number of elements in list: 4\n",
      "Please enter the Value of 1 Element : 12\n",
      "Please enter the Value of 2 Element : 20\n",
      "Please enter the Value of 3 Element : 30\n",
      "Please enter the Value of 4 Element : 12\n",
      "Smallest element is: 12\n"
     ]
    }
   ],
   "source": [
    "# creating empty list\n",
    "list1 = []\n",
    " \n",
    "# asking number of elements to put in list\n",
    "num = int(input(\"Enter number of elements in list: \"))\n",
    " \n",
    "# iterating till num to append elements in list\n",
    "for i in range(1, num + 1):\n",
    "    ele= int(input(\"Please enter the Value of %d Element : \" %i))\n",
    "    list1.append(ele)\n",
    "     \n",
    "# print Minimum element\n",
    "print(\"Smallest element is:\", min(list1))"
   ]
  },
  {
   "cell_type": "markdown",
   "id": "f2e46191",
   "metadata": {},
   "source": [
    "**Q4** Write a Python program to find largest number in a list?\n",
    "\n",
    "**Answer**:-"
   ]
  },
  {
   "cell_type": "code",
   "execution_count": 1,
   "id": "a46a0cf1",
   "metadata": {},
   "outputs": [
    {
     "name": "stdout",
     "output_type": "stream",
     "text": [
      "Enter number of elements in list: 5\n",
      "Please enter the Value of 1 Element : 12\n",
      "Please enter the Value of 2 Element : 23\n",
      "Please enter the Value of 3 Element : 15\n",
      "Please enter the Value of 4 Element : 12\n",
      "Please enter the Value of 5 Element : 15\n",
      "Largest element is: 23\n"
     ]
    }
   ],
   "source": [
    "# creating empty list\n",
    "list1 = []\n",
    " \n",
    "# asking number of elements to put in list\n",
    "num = int(input(\"Enter number of elements in list: \"))\n",
    " \n",
    "# iterating till num to append elements in list\n",
    "for i in range(1, num + 1):\n",
    "    ele= int(input(\"Please enter the Value of %d Element : \" %i))\n",
    "    list1.append(ele)\n",
    "     \n",
    "# print Maximum element from list\n",
    "print(\"Largest element is:\", max(list1))"
   ]
  },
  {
   "cell_type": "markdown",
   "id": "1f498dcd",
   "metadata": {},
   "source": [
    "**Q5** Write a Python program to find second largest number in a list?\n",
    "\n",
    "**Answer**:-"
   ]
  },
  {
   "cell_type": "code",
   "execution_count": 2,
   "id": "1e1c7e7d",
   "metadata": {},
   "outputs": [
    {
     "name": "stdout",
     "output_type": "stream",
     "text": [
      "Enter size of list 4\n",
      "Enter element of list 12\n",
      "Enter element of list 23\n",
      "Enter element of list 10\n",
      "Enter element of list 20\n",
      "second largest in  [12, 23, 10, 20] is\n",
      "20\n"
     ]
    }
   ],
   "source": [
    "#second largest number in list\n",
    "\n",
    "#function\n",
    "def second_largest(list):\n",
    "    list.sort()\n",
    "    return list[-2]\n",
    "\n",
    "#input of list\n",
    "list=[]\n",
    "n=int(input(\"Enter size of list \"))\n",
    "for i in range(0,n):\n",
    "    ele=int(input(\"Enter element of list \"))\n",
    "    list.append(ele)\n",
    "\n",
    "#smallest\n",
    "print(\"second largest in \",list,\"is\")\n",
    "print(second_largest(list))          "
   ]
  },
  {
   "cell_type": "markdown",
   "id": "ad5a78fe",
   "metadata": {},
   "source": [
    "**Q6** Write a Python program to find N largest elements from a list?\n",
    "\n",
    "**Answer**:-"
   ]
  },
  {
   "cell_type": "code",
   "execution_count": 4,
   "id": "593173e3",
   "metadata": {},
   "outputs": [
    {
     "name": "stdout",
     "output_type": "stream",
     "text": [
      "Enter size of list 5\n",
      "Enter element of list 12\n",
      "Enter element of list 12\n",
      "Enter element of list 15\n",
      "Enter element of list 16\n",
      "Enter element of list 17\n",
      "Enter N3\n",
      "3 max elements in  [12, 12, 15, 16, 17]\n",
      "[15, 16, 17]\n"
     ]
    }
   ],
   "source": [
    "def N_max_elements(list, N):\n",
    "    list.sort()     \n",
    "    return list[-N: ]\n",
    "\n",
    "#input\n",
    "list=[]\n",
    "n=int(input(\"Enter size of list \"))\n",
    "for i in range(0,n):\n",
    "    ele=int(input(\"Enter element of list \"))\n",
    "    list.append(ele)\n",
    "n=int(input(\"Enter N\"))\n",
    "print(n, \"max elements in \",list)\n",
    "  \n",
    "# Calling and printing the function\n",
    "print(N_max_elements(list, n))"
   ]
  },
  {
   "cell_type": "markdown",
   "id": "6bf01327",
   "metadata": {},
   "source": [
    "**Q7** Write a Python program to print even numbers in a list?\n",
    "\n",
    "**Answer**:-"
   ]
  },
  {
   "cell_type": "code",
   "execution_count": 5,
   "id": "1611d95e",
   "metadata": {},
   "outputs": [
    {
     "name": "stdout",
     "output_type": "stream",
     "text": [
      "Please enter the Total Number of List Elements : 5\n",
      "Please enter the Value of 1 Element : 12\n",
      "Please enter the Value of 2 Element : 13\n",
      "Please enter the Value of 3 Element : 16\n",
      "Please enter the Value of 4 Element : 14\n",
      "Please enter the Value of 5 Element : 18\n",
      "\n",
      " The Even Number in given [12, 13, 16, 14, 18] is : [12, 16, 14, 18]\n"
     ]
    }
   ],
   "source": [
    "def Even_Num_in_List(list1):\n",
    "    \"This function will return the Even number in the given list\"\n",
    "    Even_Num = []\n",
    "    for x in list1:\n",
    "        if x % 2 == 0:\n",
    "            Even_Num.append(x)\n",
    "    return Even_Num\n",
    "\n",
    "list1 = []\n",
    "Number = int(input(\"Please enter the Total Number of List Elements : \"))\n",
    "for i in range(1, Number + 1):\n",
    "    value = int(input(\"Please enter the Value of %d Element : \" %i))\n",
    "    list1.append(value)\n",
    "\n",
    "Even_Num = Even_Num_in_List(list1)\n",
    "print(f\"\\n The Even Number in given {list1} is : {Even_Num}\")\n"
   ]
  },
  {
   "cell_type": "markdown",
   "id": "cc25b729",
   "metadata": {},
   "source": [
    "**Q8** Write a Python program to print odd numbers in a List?\n",
    "\n",
    "**Answer**:-"
   ]
  },
  {
   "cell_type": "code",
   "execution_count": 6,
   "id": "c9ac0038",
   "metadata": {},
   "outputs": [
    {
     "name": "stdout",
     "output_type": "stream",
     "text": [
      "Please enter the Total Number of List Elements : 5\n",
      "Please enter the Value of 1 Element : 56\n",
      "Please enter the Value of 2 Element : 12\n",
      "Please enter the Value of 3 Element : 23\n",
      "Please enter the Value of 4 Element : 27\n",
      "Please enter the Value of 5 Element : 167\n",
      "\n",
      " The Odd  Number in given [56, 12, 23, 27, 167] is : [23, 27, 167]\n"
     ]
    }
   ],
   "source": [
    "def Odd_Num_in_List(list1):\n",
    "    \"This function will return the Odd number in the given list\"\n",
    "    Odd_Num = []\n",
    "    for n in list1:\n",
    "        if n % 2 != 0:\n",
    "            Odd_Num.append(n)\n",
    "    return Odd_Num\n",
    "\n",
    "list1 = []\n",
    "Number = int(input(\"Please enter the Total Number of List Elements : \"))\n",
    "for i in range(1, Number + 1):\n",
    "    value = int(input(\"Please enter the Value of %d Element : \" %i))\n",
    "    list1.append(value)\n",
    "\n",
    "Odd_Num = Odd_Num_in_List(list1)\n",
    "print(f\"\\n The Odd  Number in given {list1} is : {Odd_Num}\")"
   ]
  },
  {
   "cell_type": "markdown",
   "id": "9954132c",
   "metadata": {},
   "source": [
    "**Q9** Write a Python program to Remove empty List from List?\n",
    "\n",
    "**Answer**:-"
   ]
  },
  {
   "cell_type": "code",
   "execution_count": 7,
   "id": "4b54e5b1",
   "metadata": {},
   "outputs": [
    {
     "name": "stdout",
     "output_type": "stream",
     "text": [
      "The original list is : [4, 6, [], 10, [], [], 15]\n",
      "List after empty list removal : [4, 6, 10, 15]\n"
     ]
    }
   ],
   "source": [
    "def empty_list_remove(input_list):\n",
    "    new_list = []\n",
    "    for ele in input_list:\n",
    "        if ele:\n",
    "            new_list.append(ele)\n",
    "    return new_list\n",
    " \n",
    "# input list values\n",
    "input_list = [4, 6, [], 10, [], [], 15]\n",
    " \n",
    "# print initial list values\n",
    "print(f\"The original list is : {input_list}\")\n",
    "# function-call & print values\n",
    "print(f\"List after empty list removal : {empty_list_remove(input_list)}\")"
   ]
  },
  {
   "cell_type": "markdown",
   "id": "12e99757",
   "metadata": {},
   "source": [
    "**Q10** Write a Python program to Cloning or Copying a list?\n",
    "\n",
    "**Answer**:-"
   ]
  },
  {
   "cell_type": "code",
   "execution_count": 8,
   "id": "094adaf7",
   "metadata": {},
   "outputs": [
    {
     "name": "stdout",
     "output_type": "stream",
     "text": [
      "Enter size of list 4\n",
      "Enter element of list 12\n",
      "Enter element of list 13\n",
      "Enter element of list 14\n",
      "Enter element of list 15\n",
      "Original list:  [12, 13, 14, 15]\n",
      "After cloning:  [12, 13, 14, 15]\n"
     ]
    }
   ],
   "source": [
    "li=[]\n",
    "n=int(input(\"Enter size of list \"))\n",
    "for i in range(0,n):\n",
    "    ele=int(input(\"Enter element of list \"))\n",
    "    li.append(ele)\n",
    "print(\"Original list: \",li)\n",
    "\n",
    "#cloning\n",
    "list_copy = [ i for i in li ]\n",
    "\n",
    "print(\"After cloning: \",list_copy)"
   ]
  },
  {
   "cell_type": "markdown",
   "id": "b919ec61",
   "metadata": {},
   "source": [
    "**Q11** Write a Python program to Count occurrences of an element in a list?\n",
    "\n",
    "**Answer**:-"
   ]
  },
  {
   "cell_type": "code",
   "execution_count": 9,
   "id": "7fb6c553",
   "metadata": {},
   "outputs": [
    {
     "name": "stdout",
     "output_type": "stream",
     "text": [
      "8 has occurred 5 times\n"
     ]
    }
   ],
   "source": [
    "# Python code to count the number of occurrences\n",
    "def countX(lst, x):\n",
    "    count = 0\n",
    "    for ele in lst:\n",
    "        if (ele == x):\n",
    "            count = count + 1\n",
    "    return count\n",
    " \n",
    "# Driver Code\n",
    "lst = [8, 6, 8, 10, 8, 20, 10, 8, 8]\n",
    "x = 8\n",
    "print('{} has occurred {} times'.format(x,    countX(lst, x))) "
   ]
  }
 ],
 "metadata": {
  "kernelspec": {
   "display_name": "Python 3 (ipykernel)",
   "language": "python",
   "name": "python3"
  },
  "language_info": {
   "codemirror_mode": {
    "name": "ipython",
    "version": 3
   },
   "file_extension": ".py",
   "mimetype": "text/x-python",
   "name": "python",
   "nbconvert_exporter": "python",
   "pygments_lexer": "ipython3",
   "version": "3.9.7"
  }
 },
 "nbformat": 4,
 "nbformat_minor": 5
}

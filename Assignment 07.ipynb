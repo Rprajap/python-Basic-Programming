{
 "cells": [
  {
   "cell_type": "markdown",
   "id": "36568c5f",
   "metadata": {},
   "source": [
    "**Q1**. Write a Python Program to find sum of array?\n",
    "\n",
    "**Answer**"
   ]
  },
  {
   "cell_type": "code",
   "execution_count": 1,
   "id": "8eeaeb73",
   "metadata": {},
   "outputs": [
    {
     "name": "stdout",
     "output_type": "stream",
     "text": [
      "Enter the size of array : 4\n",
      "Enter 1 element: 12\n",
      "Enter 2 element: 25\n",
      "Enter 3 element: 23\n",
      "Enter 4 element: 13\n",
      " Sum of all [12, 25, 23, 13] elements is , 73\n"
     ]
    }
   ],
   "source": [
    "def Sum_of_Array(array):\n",
    "    \n",
    "    \"This function will return the sum of all elements of an integer array\"\n",
    "    sum = 0\n",
    "    for i in array:\n",
    "        sum += i\n",
    "    return sum\n",
    "\n",
    "array = []\n",
    "size = int(input(\"Enter the size of array : \"))\n",
    "    \n",
    "if size <= 0:\n",
    "    print(\" Please enter a positive integer \")\n",
    "else:\n",
    "    for i in range(size):\n",
    "        array.append(int(input(f\"Enter {i+1} element: \")))\n",
    "\n",
    "    print(f\" Sum of all {array} elements is , {Sum_of_Array(array)}\")"
   ]
  },
  {
   "cell_type": "markdown",
   "id": "ec4328ad",
   "metadata": {},
   "source": [
    "**Q2**. Write a Python Program to find largest element in an array?\n",
    "\n",
    "**Answer**:-"
   ]
  },
  {
   "cell_type": "code",
   "execution_count": 2,
   "id": "475b03df",
   "metadata": {},
   "outputs": [
    {
     "name": "stdout",
     "output_type": "stream",
     "text": [
      "Enter the size of array : 3\n",
      "Enter 1 element: 25\n",
      "Enter 2 element: 30\n",
      "Enter 3 element: 29\n",
      "  Maximum  Elements from this [25, 30, 29] is , 30\n"
     ]
    }
   ],
   "source": [
    "def Max_value(array):\n",
    "    \n",
    "    '''\n",
    "    This function will return the max  elements of an array\n",
    "    ''' \n",
    "    max=array[0]\n",
    "    for i in array:\n",
    "        if i>max:\n",
    "            max=i\n",
    "    \n",
    "    return max\n",
    "\n",
    "array = []\n",
    "size = int(input(\"Enter the size of array : \"))\n",
    "    \n",
    "if size <= 0:\n",
    "    print(\" Please enter a positive integer \")\n",
    "else:\n",
    "    for i in range(size):\n",
    "        array.append(int(input(f\"Enter {i+1} element: \")))\n",
    "\n",
    "    print(f\"  Maximum  Elements from this {array} is , {Max_value(array)}\")"
   ]
  },
  {
   "cell_type": "markdown",
   "id": "ed4767c3",
   "metadata": {},
   "source": [
    "**Q3** Write a Python Program for array rotation?\n",
    "\n",
    "**Answer**:-"
   ]
  },
  {
   "cell_type": "code",
   "execution_count": 3,
   "id": "f87b689f",
   "metadata": {},
   "outputs": [
    {
     "name": "stdout",
     "output_type": "stream",
     "text": [
      "enter a size of array4\n",
      " Enter 1 element :12\n",
      " Enter 2 element :13\n",
      " Enter 3 element :14\n",
      " Enter 4 element :15\n",
      "How many elements you want to rotate from the array:2\n",
      "Array before rotation\n",
      "[12, 13, 14, 15]\n",
      "Array after rotation\n",
      "[14, 15, 12, 13]\n"
     ]
    }
   ],
   "source": [
    "# function to rotate array by d elements using temp array\n",
    "def rotateArray(arr, n, d):\n",
    "    temp = []\n",
    "    i = 0\n",
    "    while (i < d):\n",
    "        temp.append(arr[i])\n",
    "        i = i + 1\n",
    "    i = 0\n",
    "    while (d < n):\n",
    "        arr[i] = arr[d]\n",
    "        i = i + 1\n",
    "        d = d + 1\n",
    "    arr[:] = arr[: i] + temp\n",
    "    return arr\n",
    "arr=[]\n",
    "n=int(input('enter a size of array'))\n",
    "if n<0:\n",
    "    print('Enter a positive number')\n",
    "else:\n",
    "    for i in range(n):\n",
    "        arr.append(int(input(f\" Enter {i+1} element :\")))\n",
    "    d=int(input('How many elements you want to rotate from the array:'))\n",
    "    if d<=0 and d>n:\n",
    "        print(f\" Enter a number in range (1-{n})\")\n",
    "    else:\n",
    "        print(f'Array before rotation')\n",
    "        print(arr)\n",
    "        print(f'Array after rotation')\n",
    "        print(rotateArray(arr,n,d))"
   ]
  },
  {
   "cell_type": "markdown",
   "id": "a5925a94",
   "metadata": {},
   "source": [
    "**Q4**. Write a Python Program to Split the array and add the first part to the end?\n",
    "\n",
    "**Answer**:-"
   ]
  },
  {
   "cell_type": "code",
   "execution_count": 6,
   "id": "c0f5778a",
   "metadata": {},
   "outputs": [
    {
     "name": "stdout",
     "output_type": "stream",
     "text": [
      "Output array is [5, 17, 10, 13]\n"
     ]
    }
   ],
   "source": [
    "# function to rotate array by d elements using temp array\n",
    "def split(arr, k):\n",
    "    arr = arr[k:] + arr[:k] \n",
    "    return arr\n",
    "   \n",
    "k = 2\n",
    "arr = [10, 13, 5, 17]\n",
    "print(\"Output array is\", split(arr, k))\n",
    " "
   ]
  },
  {
   "cell_type": "markdown",
   "id": "0eaa868e",
   "metadata": {},
   "source": [
    "**Q5**. Write a Python Program to check if given array is Monotonic?\n",
    "\n",
    "**Answer**:-"
   ]
  },
  {
   "cell_type": "code",
   "execution_count": 9,
   "id": "9e580575",
   "metadata": {},
   "outputs": [
    {
     "name": "stdout",
     "output_type": "stream",
     "text": [
      "Enter the size of array : 5\n",
      "Enter 1 element: 10\n",
      "Enter 2 element: 12\n",
      "Enter 3 element: 14\n",
      "Enter 4 element: 13\n",
      "Enter 5 element: 16\n",
      "\n",
      "Array [10, 12, 14, 13, 16] is not monotonic\n"
     ]
    }
   ],
   "source": [
    "def Is_Monotonic(array):\n",
    "    \n",
    "    '''\n",
    "    This function will check whether the given array is monotonic or not\n",
    "    '''\n",
    "    return (all(array[i] <= array[i+1] for i in range(len(array)-1)) or \n",
    "            all(array[i] >= array[i+1] for i in range(len(array)-1)))\n",
    "\n",
    "array = []\n",
    "size = int(input(\"Enter the size of array : \"))\n",
    "    \n",
    "if size <= 0:\n",
    "    print(\"\\nPlease enter a positive integer.\")\n",
    "else:\n",
    "    for i in range(size):\n",
    "        array.append(int(input(f\"Enter {i+1} element: \")))\n",
    "\n",
    "    result = Is_Monotonic(array)\n",
    "    if result:\n",
    "        print(f\"\\nArray {array} is monotonic\")\n",
    "    else:\n",
    "        print(f\"\\nArray {array} is not monotonic\")"
   ]
  }
 ],
 "metadata": {
  "kernelspec": {
   "display_name": "Python 3 (ipykernel)",
   "language": "python",
   "name": "python3"
  },
  "language_info": {
   "codemirror_mode": {
    "name": "ipython",
    "version": 3
   },
   "file_extension": ".py",
   "mimetype": "text/x-python",
   "name": "python",
   "nbconvert_exporter": "python",
   "pygments_lexer": "ipython3",
   "version": "3.9.7"
  }
 },
 "nbformat": 4,
 "nbformat_minor": 5
}

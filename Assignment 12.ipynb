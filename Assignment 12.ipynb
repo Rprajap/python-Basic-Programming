{
 "cells": [
  {
   "cell_type": "markdown",
   "id": "de21cf9a",
   "metadata": {},
   "source": [
    "**Q1** Write a Python program to Extract Unique values dictionary values?\n",
    "\n",
    "**Answer**:-"
   ]
  },
  {
   "cell_type": "code",
   "execution_count": 1,
   "id": "58af6755",
   "metadata": {},
   "outputs": [
    {
     "name": "stdout",
     "output_type": "stream",
     "text": [
      "The original dictionary is : {'gfg': [5, 6, 7, 8], 'is': [10, 11, 7, 5], 'best': [6, 12, 10, 8], 'for': [1, 2, 5]}\n",
      "The unique values list is : [1, 2, 5, 6, 7, 8, 10, 11, 12]\n"
     ]
    }
   ],
   "source": [
    "# Extract Unique values dictionary values\n",
    " \n",
    "# initializing dictionary\n",
    "test_dict = {'gfg' : [5, 6, 7, 8],\n",
    "            'is' : [10, 11, 7, 5],\n",
    "            'best' : [6, 12, 10, 8],\n",
    "            'for' : [1, 2, 5]}\n",
    " \n",
    "# printing original dictionary\n",
    "print(\"The original dictionary is : \" + str(test_dict))\n",
    " \n",
    "# Extract Unique values dictionary values\n",
    "x=[]\n",
    "for i in test_dict.keys():\n",
    "    x.extend(test_dict[i])\n",
    "x=list(set(x))\n",
    "x.sort()\n",
    "# printing result\n",
    "print(\"The unique values list is : \" + str(x))"
   ]
  },
  {
   "cell_type": "code",
   "execution_count": 2,
   "id": "163900c3",
   "metadata": {},
   "outputs": [],
   "source": [
    "test_dict = {'gfg' : [5, 6, 7, 8],\n",
    "            'is' : [10, 11, 7, 5],\n",
    "            'best' : [6, 12, 10, 8],\n",
    "            'for' : [1, 2, 5]}"
   ]
  },
  {
   "cell_type": "code",
   "execution_count": 3,
   "id": "d137b076",
   "metadata": {},
   "outputs": [
    {
     "data": {
      "text/plain": [
       "dict_keys(['gfg', 'is', 'best', 'for'])"
      ]
     },
     "execution_count": 3,
     "metadata": {},
     "output_type": "execute_result"
    }
   ],
   "source": [
    "test_dict.keys()"
   ]
  },
  {
   "cell_type": "code",
   "execution_count": 4,
   "id": "9f3e587d",
   "metadata": {},
   "outputs": [
    {
     "data": {
      "text/plain": [
       "[1, 2, 5]"
      ]
     },
     "execution_count": 4,
     "metadata": {},
     "output_type": "execute_result"
    }
   ],
   "source": [
    "test_dict['for']"
   ]
  },
  {
   "cell_type": "markdown",
   "id": "14aabedf",
   "metadata": {},
   "source": [
    "**Q2** Write a Python program to find the sum of all items in a dictionary?\n",
    "\n",
    "**Answer**:-"
   ]
  },
  {
   "cell_type": "code",
   "execution_count": 5,
   "id": "cb0b4687",
   "metadata": {},
   "outputs": [
    {
     "name": "stdout",
     "output_type": "stream",
     "text": [
      "Sum of all items is : 100\n"
     ]
    }
   ],
   "source": [
    "# Initializing dictionary Dict1\n",
    "\n",
    "Dict1 = {'a' : 10, 'b' : 20, 'c' : 30, 'd' : 40}\n",
    "\n",
    "# Creating Function to print Sum\n",
    "Sum = 0\n",
    "for i in Dict1.values():\n",
    "    Sum += i\n",
    "\n",
    "# Result\n",
    "print(\"Sum of all items is : {}\".format(Sum))\n"
   ]
  },
  {
   "cell_type": "markdown",
   "id": "50726672",
   "metadata": {},
   "source": [
    "**Q3** Write a Python program to Merging two Dictionaries?\n",
    "\n",
    "**Answer**:-"
   ]
  },
  {
   "cell_type": "code",
   "execution_count": 6,
   "id": "da3361da",
   "metadata": {},
   "outputs": [
    {
     "name": "stdout",
     "output_type": "stream",
     "text": [
      "Dict A :  {'W': 30, 'X': 20}\n",
      "Dict B :  {'Y': 33, 'Z': 43}\n",
      "Updated Dictionary : {'W': 30, 'X': 20, 'Y': 33, 'Z': 43}\n"
     ]
    }
   ],
   "source": [
    "# Initializing dictionary A & B\n",
    "A = { 'W': 30, 'X': 20}\n",
    "\n",
    "B = { 'Y': 33, 'Z': 43}\n",
    "\n",
    "# copying dict A in dict C\n",
    "C = A.copy()\n",
    "\n",
    "# Updating dict C with dict B\n",
    "C.update(B)\n",
    "\n",
    "# Printing Initial Dict of A & B\n",
    "print(\"Dict A : \", A)\n",
    "print(\"Dict B : \", B)\n",
    "\n",
    "# Result\n",
    "print('Updated Dictionary : {}'.format(C))"
   ]
  },
  {
   "cell_type": "markdown",
   "id": "2bfaea11",
   "metadata": {},
   "source": [
    "**Q4** Write a Python program to convert key-values list to flat dictionary?\n",
    "\n",
    "**Answer**:-"
   ]
  },
  {
   "cell_type": "code",
   "execution_count": 7,
   "id": "adee1254",
   "metadata": {},
   "outputs": [
    {
     "name": "stdout",
     "output_type": "stream",
     "text": [
      "The original dictionary is : {'month': [1, 2, 3], 'name': ['Jan', 'Feb', 'March']}\n",
      "Flattened dictionary : {1: 'Jan', 2: 'Feb', 3: 'March'}\n"
     ]
    }
   ],
   "source": [
    "# Initializing dictionary\n",
    "Dict2 = {'month' : [1, 2, 3],\n",
    "        'name' : ['Jan', 'Feb', 'March']}\n",
    "  \n",
    "# printing original dictionary\n",
    "print(\"The original dictionary is : \" + str(Dict2))\n",
    "  \n",
    "# Convert key-values list to flat dictionary\n",
    "# Using dict() + zip()\n",
    "res = dict(zip(Dict2['month'], Dict2['name']))\n",
    "  \n",
    "# printing result \n",
    "print(\"Flattened dictionary : \" + str(res)) "
   ]
  },
  {
   "cell_type": "markdown",
   "id": "413a044f",
   "metadata": {},
   "source": [
    "**Q5** Write a Python program to insertion at the beginning in OrderedDict?\n",
    "\n",
    "**Answer**:-"
   ]
  },
  {
   "cell_type": "code",
   "execution_count": 8,
   "id": "d9af2272",
   "metadata": {},
   "outputs": [
    {
     "name": "stdout",
     "output_type": "stream",
     "text": [
      "Resultant Dictionary :\n",
      "OrderedDict([('D', '400'), ('A', '100'), ('B', '200'), ('C', '300')])\n"
     ]
    }
   ],
   "source": [
    "from collections import OrderedDict\n",
    "dic1 = OrderedDict([('A', '100'), ('B', '200'), ('C', '300')])\n",
    "insrt = OrderedDict([(\"D\", '400')])\n",
    "  \n",
    "final = OrderedDict(list(insrt.items()) + list(dic1.items()))\n",
    "  \n",
    "# print result\n",
    "print (\"Resultant Dictionary :\")\n",
    "print(final)"
   ]
  },
  {
   "cell_type": "markdown",
   "id": "e697176d",
   "metadata": {},
   "source": [
    "**Q6** Write a Python program to check order of character in string using OrderedDict()?\n",
    "\n",
    "**Answer**:-"
   ]
  },
  {
   "cell_type": "code",
   "execution_count": 9,
   "id": "d1c05d8b",
   "metadata": {},
   "outputs": [
    {
     "name": "stdout",
     "output_type": "stream",
     "text": [
      "The string is \n",
      "Hi Ineuron\n",
      "The input pattern is \n",
      "neu\n",
      "The order of pattern is correct\n"
     ]
    }
   ],
   "source": [
    "from collections import OrderedDict\n",
    "def check_order(my_input, my_pattern):\n",
    "    my_dict = OrderedDict.fromkeys(my_input)\n",
    "    pattern_length = 0\n",
    "    for key,value in my_dict.items():\n",
    "        if (key == my_pattern[pattern_length]):\n",
    "            pattern_length = pattern_length + 1\n",
    "\n",
    "        if (pattern_length == (len(my_pattern))):\n",
    "            return 'The order of pattern is correct'\n",
    "\n",
    "    return 'The order of pattern is incorrect'\n",
    "\n",
    "my_input = 'Hi Ineuron'\n",
    "input_pattern = 'neu'\n",
    "print(\"The string is \")\n",
    "print(my_input)\n",
    "print(\"The input pattern is \")\n",
    "print(input_pattern)\n",
    "print(check_order(my_input,input_pattern))"
   ]
  },
  {
   "cell_type": "markdown",
   "id": "53258bbb",
   "metadata": {},
   "source": [
    "**Q7** Write a Python program to sort Python Dictionaries by Key or Value?\n",
    "\n",
    "**Answer**:-"
   ]
  },
  {
   "cell_type": "code",
   "execution_count": 10,
   "id": "ac4c9ba6",
   "metadata": {},
   "outputs": [
    {
     "name": "stdout",
     "output_type": "stream",
     "text": [
      "[1, 2, 3, 4, 5, 6]\n",
      "[(1, 2), (2, 1), (3, 4), (4, 3), (5, 6), (6, 5)]\n"
     ]
    }
   ],
   "source": [
    "# Initializing dictionary\n",
    "a = {1:2, 2:1, 4:3, 3:4, 6:5, 5:6}\n",
    "\n",
    "# This will print a sorted list of the keys\n",
    "print(sorted(a.keys()))\n",
    "\n",
    "# This will print the sorted list with items.\n",
    "print(sorted(a.items()))"
   ]
  }
 ],
 "metadata": {
  "kernelspec": {
   "display_name": "Python 3 (ipykernel)",
   "language": "python",
   "name": "python3"
  },
  "language_info": {
   "codemirror_mode": {
    "name": "ipython",
    "version": 3
   },
   "file_extension": ".py",
   "mimetype": "text/x-python",
   "name": "python",
   "nbconvert_exporter": "python",
   "pygments_lexer": "ipython3",
   "version": "3.9.7"
  }
 },
 "nbformat": 4,
 "nbformat_minor": 5
}

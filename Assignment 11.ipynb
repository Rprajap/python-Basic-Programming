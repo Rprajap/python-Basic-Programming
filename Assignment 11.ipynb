{
 "cells": [
  {
   "cell_type": "markdown",
   "id": "853732a8",
   "metadata": {},
   "source": [
    "**Q1** Write a Python program to find words which are greater than given length k?\n",
    "\n",
    "**Answer**:-"
   ]
  },
  {
   "cell_type": "code",
   "execution_count": 12,
   "id": "e9948ebf",
   "metadata": {},
   "outputs": [
    {
     "name": "stdout",
     "output_type": "stream",
     "text": [
      "Enter the string : Learning with ineuron\n",
      "Enter the lenth K : 4\n",
      "\n",
      "The original string ' Learning with ineuron '\n",
      "Words which are greater than length 4\n",
      "['Learning', 'ineuron']\n"
     ]
    }
   ],
   "source": [
    "def WordGreaterThanLenghtK(k, str):\n",
    "    txt = str.split()\n",
    "    listOfWords = []\n",
    "    for i in txt:\n",
    "        if len(i) > k:\n",
    "            listOfWords.append(i)\n",
    "    return listOfWords\n",
    "\n",
    "str = input(\"Enter the string : \")\n",
    "k = int(input(\"Enter the lenth K : \"))\n",
    "\n",
    "listword = WordGreaterThanLenghtK(k,str)\n",
    "\n",
    "print(\"\\nThe original string ' {} '\".format(str))\n",
    "\n",
    "print(\"Words which are greater than length {}\".format(k))\n",
    "print(listword)"
   ]
  },
  {
   "cell_type": "markdown",
   "id": "fe7e5aef",
   "metadata": {},
   "source": [
    "**Q2** Write a Python program for removing i-th character from a string?\n",
    "\n",
    "**Answer**:-"
   ]
  },
  {
   "cell_type": "code",
   "execution_count": 10,
   "id": "d16c13f5",
   "metadata": {},
   "outputs": [
    {
     "name": "stdout",
     "output_type": "stream",
     "text": [
      "Enter the string : Ineuron\n",
      "Enter the index : 0\n",
      "The new string :  neuron\n"
     ]
    }
   ],
   "source": [
    "# Removes character at index i\n",
    "def Remove(str, i): \n",
    "  \n",
    "    for j in range(len(str)):\n",
    "        if j == i:\n",
    "            str = str.replace(str[i], \"\", 1)\n",
    "    return str      \n",
    "\n",
    "str = input(\"Enter the string : \")\n",
    "i = int(input(\"Enter the index : \"))      \n",
    "\n",
    "# Print the new string\n",
    "\n",
    "print(\"The new string : \", Remove(str, i))"
   ]
  },
  {
   "cell_type": "markdown",
   "id": "d05bb190",
   "metadata": {},
   "source": [
    "**Q3** Write a Python program to split and join a string?\n",
    "\n",
    "**Answer**:-"
   ]
  },
  {
   "cell_type": "code",
   "execution_count": 13,
   "id": "ddbdd2ab",
   "metadata": {},
   "outputs": [
    {
     "name": "stdout",
     "output_type": "stream",
     "text": [
      "Enter the string you need to split and join : Entire Course is available in ineuron\n",
      "['Entire', 'Course', 'is', 'available', 'in', 'ineuron']\n",
      "Entire-Course-is-available-in-ineuron\n"
     ]
    }
   ],
   "source": [
    "# Python program to split a string and join it using different delimiter\n",
    " \n",
    "def split_string(string):\n",
    " \n",
    "    # Split the string based on space delimiter\n",
    "    list_string = string.split(' ')\n",
    "     \n",
    "    return list_string\n",
    " \n",
    "def join_string(list_string):\n",
    " \n",
    "    # Join the string based on '-' delimiter\n",
    "    string = '-'.join(list_string)\n",
    "     \n",
    "    return string\n",
    " \n",
    "# Driver Function\n",
    "if __name__ == '__main__':\n",
    "    \n",
    "    string = input(\"Enter the string you need to split and join : \")\n",
    "     \n",
    "    # Splitting a string\n",
    "    \n",
    "    list_string = split_string(string)\n",
    "    print(list_string)\n",
    " \n",
    "     # Join list of strings into one\n",
    "    \n",
    "    new_string = join_string(list_string)\n",
    "    print(new_string)"
   ]
  },
  {
   "cell_type": "markdown",
   "id": "7730573f",
   "metadata": {},
   "source": [
    "**Q4** Write a Python to check if a given string is binary string or not?\n",
    "\n",
    "**Answer**:-"
   ]
  },
  {
   "cell_type": "code",
   "execution_count": 23,
   "id": "88bd3479",
   "metadata": {},
   "outputs": [
    {
     "name": "stdout",
     "output_type": "stream",
     "text": [
      "Enter the string : 010110101\n",
      "Its a Binary\n"
     ]
    }
   ],
   "source": [
    "def CheckBinary(str):\n",
    "    binary = '01'\n",
    "    for i in range(len(str)):\n",
    "        if str[i] not in binary:\n",
    "            print('Not Binary')\n",
    "            break\n",
    "    else:\n",
    "        print('Its a Binary')\n",
    "        \n",
    "str = input(\"Enter the string : \")\n",
    "\n",
    "CheckBinary(str)"
   ]
  },
  {
   "cell_type": "markdown",
   "id": "c67b08fd",
   "metadata": {},
   "source": [
    "**Q5** Write a Python program to find uncommon words from two Strings?\n",
    "\n",
    "**Answer**:-"
   ]
  },
  {
   "cell_type": "code",
   "execution_count": 25,
   "id": "edc201a7",
   "metadata": {},
   "outputs": [
    {
     "name": "stdout",
     "output_type": "stream",
     "text": [
      "Enter the string a : Full stack datascience with ineuron\n",
      "Enter the string b : Full stack developer with ineuron\n",
      " datascience developer\n"
     ]
    }
   ],
   "source": [
    "def uncommon(a,b):\n",
    "    list_a = a.split()\n",
    "    list_b = b.split()\n",
    "    uc = ''\n",
    "    for i in list_a:\n",
    "        if i not in list_b:\n",
    "            uc = uc+\" \"+i\n",
    "    for j in list_b:\n",
    "        if j not in list_a:\n",
    "            uc = uc+\" \"+j\n",
    "  \n",
    "    return uc\n",
    "  \n",
    "# Driver code\n",
    "a = input(\"Enter the string a : \").lower()\n",
    "b = input(\"Enter the string b : \").lower()\n",
    "\n",
    "print(uncommon(a,b))"
   ]
  },
  {
   "cell_type": "markdown",
   "id": "eb2f4c84",
   "metadata": {},
   "source": [
    "**Q6** Write a Python to find all duplicate characters in string?\n",
    "\n",
    "**Answer**:-"
   ]
  },
  {
   "cell_type": "code",
   "execution_count": 26,
   "id": "dbbbfa94",
   "metadata": {},
   "outputs": [
    {
     "name": "stdout",
     "output_type": "stream",
     "text": [
      "Enter the string a : hey! Learner how is ineuron?\n",
      "['h', 'e', ' ', 'r', 'n', 'o', 'i']\n"
     ]
    }
   ],
   "source": [
    "def Duplicate():\n",
    "    \n",
    "    str = input(\"Enter the string a : \").lower()\n",
    "    duplicate = []\n",
    "    \n",
    "    for i in str:\n",
    "        if str.count(i) > 1 :\n",
    "            if i not in duplicate:\n",
    "                duplicate.append(i)\n",
    "                \n",
    "    print(duplicate)\n",
    "        \n",
    "Duplicate()"
   ]
  },
  {
   "cell_type": "markdown",
   "id": "04501884",
   "metadata": {},
   "source": [
    "**Q7** Write a Python Program to check if a string contains any special character?\n",
    "\n",
    "**Answer**:-"
   ]
  },
  {
   "cell_type": "code",
   "execution_count": 27,
   "id": "df764b2e",
   "metadata": {},
   "outputs": [
    {
     "name": "stdout",
     "output_type": "stream",
     "text": [
      "Enter the string a : all courses@ ineuron\n",
      "String all courses@ ineuron has Special Charecter/s : ['@']\n"
     ]
    }
   ],
   "source": [
    "import string\n",
    "\n",
    "def SpecialChar():\n",
    "    \n",
    "    string_char = string.punctuation\n",
    "    SpChar = []\n",
    "\n",
    "    str = input(\"Enter the string a : \").lower()\n",
    "\n",
    "    for i in str:\n",
    "        if i in string_char:\n",
    "            SpChar.append(i)\n",
    "        \n",
    "    if len(SpChar) > 0:\n",
    "        print(\"String {} has Special Charecter/s : {}\".format(str, SpChar))\n",
    "        \n",
    "    else:\n",
    "        print(\"String {} has No Special Charecter/s : {}\".format(str, SpChar))\n",
    "\n",
    "SpecialChar()"
   ]
  }
 ],
 "metadata": {
  "kernelspec": {
   "display_name": "Python 3 (ipykernel)",
   "language": "python",
   "name": "python3"
  },
  "language_info": {
   "codemirror_mode": {
    "name": "ipython",
    "version": 3
   },
   "file_extension": ".py",
   "mimetype": "text/x-python",
   "name": "python",
   "nbconvert_exporter": "python",
   "pygments_lexer": "ipython3",
   "version": "3.9.7"
  }
 },
 "nbformat": 4,
 "nbformat_minor": 5
}

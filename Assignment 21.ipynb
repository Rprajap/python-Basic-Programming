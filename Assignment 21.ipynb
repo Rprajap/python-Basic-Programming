{
 "cells": [
  {
   "cell_type": "markdown",
   "id": "9064075d",
   "metadata": {},
   "source": [
    "**Q1**. Add the current date to the text file today.txt as a string.\n",
    "\n",
    "**Answer**:-"
   ]
  },
  {
   "cell_type": "code",
   "execution_count": 1,
   "id": "d202b781",
   "metadata": {},
   "outputs": [
    {
     "data": {
      "text/plain": [
       "'2022-09-13'"
      ]
     },
     "execution_count": 1,
     "metadata": {},
     "output_type": "execute_result"
    }
   ],
   "source": [
    "import datetime\n",
    "from datetime import date\n",
    "now = date.today()\n",
    "cur_date = now.isoformat()\n",
    "cur_date"
   ]
  },
  {
   "cell_type": "code",
   "execution_count": 2,
   "id": "4fe55475",
   "metadata": {},
   "outputs": [],
   "source": [
    "with open('today.txt','w') as file:\n",
    "    file.write(cur_date)"
   ]
  },
  {
   "cell_type": "code",
   "execution_count": 3,
   "id": "904b6fa8",
   "metadata": {},
   "outputs": [],
   "source": [
    "file.close()"
   ]
  },
  {
   "cell_type": "markdown",
   "id": "a4c2e738",
   "metadata": {},
   "source": [
    "**Q2**. Read the text file today.txt into the string today_string.\n",
    "\n",
    "**Answer**:-"
   ]
  },
  {
   "cell_type": "code",
   "execution_count": 4,
   "id": "d1f099ec",
   "metadata": {},
   "outputs": [
    {
     "data": {
      "text/plain": [
       "'2022-09-13'"
      ]
     },
     "execution_count": 4,
     "metadata": {},
     "output_type": "execute_result"
    }
   ],
   "source": [
    "with open('today.txt','r') as file:\n",
    "    today_string = file.read()\n",
    "today_string"
   ]
  },
  {
   "cell_type": "markdown",
   "id": "8d11665b",
   "metadata": {},
   "source": [
    "**Q3**. Parse the date from today_string.\n",
    "\n",
    "**Answer**:-"
   ]
  },
  {
   "cell_type": "code",
   "execution_count": 5,
   "id": "09893286",
   "metadata": {},
   "outputs": [
    {
     "data": {
      "text/plain": [
       "datetime.datetime(2022, 9, 13, 0, 0)"
      ]
     },
     "execution_count": 5,
     "metadata": {},
     "output_type": "execute_result"
    }
   ],
   "source": [
    "from datetime import datetime\n",
    "format = '%Y-%m-%d'\n",
    "datetime.strptime(today_string,format)"
   ]
  },
  {
   "cell_type": "markdown",
   "id": "2c40e7b3",
   "metadata": {},
   "source": [
    "**Q4**. List the files in your current directory.\n",
    "\n",
    "**Answer**:-"
   ]
  },
  {
   "cell_type": "code",
   "execution_count": 6,
   "id": "5b32a2b2",
   "metadata": {},
   "outputs": [
    {
     "data": {
      "text/plain": [
       "['.ipynb_checkpoints',\n",
       " 'Assignment 01.ipynb',\n",
       " 'Assignment 02.ipynb',\n",
       " 'Assignment 03.ipynb',\n",
       " 'Assignment 04.ipynb',\n",
       " 'Assignment 05.ipynb',\n",
       " 'Assignment 06.ipynb',\n",
       " 'Assignment 07.ipynb',\n",
       " 'Assignment 08.ipynb',\n",
       " 'Assignment 09.ipynb',\n",
       " 'Assignment 10.ipynb',\n",
       " 'Assignment 11.ipynb',\n",
       " 'Assignment 12.ipynb',\n",
       " 'Assignment 13.ipynb',\n",
       " 'Assignment 14.ipynb',\n",
       " 'Assignment 15.ipynb',\n",
       " 'Assignment 16.ipynb',\n",
       " 'Assignment 17.ipynb',\n",
       " 'Assignment 18.ipynb',\n",
       " 'Assignment 19.ipynb',\n",
       " 'Assignment 20.ipynb',\n",
       " 'Assignment 21.ipynb',\n",
       " 'today.txt']"
      ]
     },
     "execution_count": 6,
     "metadata": {},
     "output_type": "execute_result"
    }
   ],
   "source": [
    "import os\n",
    "os.listdir('.')"
   ]
  },
  {
   "cell_type": "markdown",
   "id": "5012bd5e",
   "metadata": {},
   "source": [
    "**Q5**. Create a list of all of the files in your parent directory (minimum five files should be available).\n",
    "\n",
    "**Answer**:-"
   ]
  },
  {
   "cell_type": "code",
   "execution_count": 8,
   "id": "8e1a727d",
   "metadata": {},
   "outputs": [
    {
     "data": {
      "text/plain": [
       "['.idea',\n",
       " '.ipynb_checkpoints',\n",
       " '05.03.2022 pandas.ipynb',\n",
       " '06.02.2022 sql.ipynb',\n",
       " '06.03.2022 PANDAS.ipynb',\n",
       " '08-01-2022 function.ipynb',\n",
       " '09.01.2022 file operation.ipynb',\n",
       " '1-Simple Linearregression.pdf',\n",
       " '12.02.2022 opps class discoussion.ipynb',\n",
       " '12.03.2022 pandas .ipynb',\n",
       " '13.02.2022(object oriented programming.. custom excetion ).ipynb',\n",
       " '13.03.2022  numpy.ipynb',\n",
       " '15.01.2022 exception handling.ipynb',\n",
       " '16..01.2022 (exception handling).ipynb',\n",
       " '16.01.2022.ipynb',\n",
       " '19.12.2021 conditional statement.ipynb',\n",
       " '2-RidgeLassoelasticLogistic.pdf',\n",
       " '20.12.21.ipynb',\n",
       " '21.12.21.ipynb',\n",
       " '23.12.2021.ipynb',\n",
       " '26.03.2022  .ipynb',\n",
       " '3-dog.png',\n",
       " 'abc.png',\n",
       " 'Analysis - Titanic Dataset.xls',\n",
       " 'analysis of ipl datra set.ipynb',\n",
       " 'annual-enterprise-survey-2020-financial-year-provisional-csv (2).csv',\n",
       " 'annual-enterprise-survey-2020-financial-year-provisional-size-bands-csv.csv',\n",
       " 'Assignmentproject',\n",
       " 'Assignments-02.ipynb.bak',\n",
       " 'bank.csv',\n",
       " 'car.data',\n",
       " 'car.png',\n",
       " 'car1.png',\n",
       " 'car2.png',\n",
       " 'cat.png',\n",
       " 'code with hary',\n",
       " 'Coffee.csv',\n",
       " 'Coffee.xl.xls',\n",
       " 'Coffee.xls',\n",
       " 'cricketdata.csv',\n",
       " 'Crop.mp4',\n",
       " 'data manipulation  05.03.2022.ipynb',\n",
       " 'Decorators.ipynb',\n",
       " 'DEEPAK LOCAL ALL FABRIC PRICE 2021.xlsx',\n",
       " 'deliveries-Copy1.csv',\n",
       " 'deliveries.csv',\n",
       " 'design.png',\n",
       " 'diamonds-Copy1.csv',\n",
       " 'diamonds.csv',\n",
       " 'eda lecture',\n",
       " 'example.db',\n",
       " 'Exception Handling.ipynb',\n",
       " 'Fifa Dataset Analysis.ipynb',\n",
       " 'file handling .ipynb',\n",
       " 'Flight Prediction',\n",
       " 'geeta-Copy1.txt',\n",
       " 'geeta.txt',\n",
       " 'glass.data',\n",
       " 'google-Copy1.txt',\n",
       " 'google.txt',\n",
       " 'google.txt.txt',\n",
       " 'gui progarmming Lecture-1.ipynb',\n",
       " 'Home work.ipynb',\n",
       " 'Homework.ipynb',\n",
       " 'hoops concepts.ipynb',\n",
       " 'ineuron lecture',\n",
       " 'IPL Ball-by-Ball 2008-2020-Copy1.csv',\n",
       " 'IPL Ball-by-Ball 2008-2020.csv',\n",
       " 'IPL-Copy1.csv',\n",
       " 'IPL.csv',\n",
       " 'iris-Copy1.csv',\n",
       " 'iris.csv',\n",
       " 'iterator generator (1).ipynb',\n",
       " 'json_responce.csv',\n",
       " 'logging (1) (1).ipynb',\n",
       " 'Logging (1).ipynb',\n",
       " 'Logging.ipynb',\n",
       " 'logo.png',\n",
       " 'Matplot lib visualisation',\n",
       " 'module.py',\n",
       " 'mpongo db 13.02.2022.ipynb',\n",
       " 'my sql  05.02.2022.ipynb',\n",
       " 'my video',\n",
       " 'mysql rivision .ipynb',\n",
       " 'my_figure.png',\n",
       " 'my_module.py',\n",
       " 'nature.jpg',\n",
       " 'NBV.CSV',\n",
       " 'Pakages.ipynb',\n",
       " 'pandas 26.02.2022.ipynb',\n",
       " 'pandas 27.03.2022.ipynb',\n",
       " 'pandas...ipynb',\n",
       " 'pandas.ipynb',\n",
       " 'players_20-Copy1.csv',\n",
       " 'players_20.csv',\n",
       " 'practice problem python basic.ipynb',\n",
       " 'Problem statement.ipynb',\n",
       " 'python advance assignment',\n",
       " 'python basic Assignment',\n",
       " 'Python by Durga Sir',\n",
       " 'Python by Durga Sir.py',\n",
       " 'Python programing basic assignment',\n",
       " 'python.pdf',\n",
       " 'RAMDAS  RESUME NEW-1.pdf',\n",
       " 'Ramdas (2).txt',\n",
       " 'Ramdas-Copy1.csv',\n",
       " 'Ramdas.csv',\n",
       " 'Ramdas.log',\n",
       " 'Ramdas.txt',\n",
       " 'Ramdas2.log',\n",
       " 'Ramdas3.log',\n",
       " 'regional-gross-domestic-product-year-ended-march-2020.csv',\n",
       " 'Regular Expresion.ipynb',\n",
       " 'RESUME.docx',\n",
       " 'Resume.pdf',\n",
       " 'sample.docx',\n",
       " 'Scatter plot with Seaborn Library.ipynb',\n",
       " 'Science',\n",
       " 'scikit learn.ipynb',\n",
       " 'scrape review practice.ipynb',\n",
       " 'Scraping review.ipynb',\n",
       " 'sql database connector.ipynb',\n",
       " 'standared logging with function.ipynb',\n",
       " 'structure  trangular.ipynb',\n",
       " 'sunar.mp4',\n",
       " 'test-Copy1.log',\n",
       " 'test-Copy1.txt',\n",
       " 'test.log',\n",
       " 'test.py.txt',\n",
       " 'test.txt',\n",
       " 'test2-Copy1.log',\n",
       " 'test2-Copy1.txt',\n",
       " 'test2.log',\n",
       " 'test2.py',\n",
       " 'test2.txt',\n",
       " 'test3',\n",
       " 'test3-Copy1',\n",
       " 'test3-Copy1.log',\n",
       " 'test3-Copy1.txt',\n",
       " 'test3.log',\n",
       " 'test3.txt',\n",
       " 'test6-Copy1.text',\n",
       " 'test6.text',\n",
       " 'text file operation .ipynb',\n",
       " 'text file.ipynb',\n",
       " 'text2-Copy1.py',\n",
       " 'train.mp4',\n",
       " 'tuple,set ,dictionary.ipynb',\n",
       " 'unesh',\n",
       " 'Untitled10.ipynb',\n",
       " 'Untitled13.ipynb',\n",
       " 'Untitled14.ipynb',\n",
       " 'Untitled2.ipynb',\n",
       " 'Visualisation with Seaborn',\n",
       " 'visulisation with seaborn library.ipynb',\n",
       " '__pycache__']"
      ]
     },
     "execution_count": 8,
     "metadata": {},
     "output_type": "execute_result"
    }
   ],
   "source": [
    "os.listdir('..')"
   ]
  },
  {
   "cell_type": "code",
   "execution_count": null,
   "id": "10a77070",
   "metadata": {},
   "outputs": [],
   "source": []
  },
  {
   "cell_type": "code",
   "execution_count": 14,
   "id": "c81b9eab",
   "metadata": {},
   "outputs": [
    {
     "name": "stdout",
     "output_type": "stream",
     "text": [
      "2022-09-13 12:10:30.919895\n",
      "It takes 0.23113536834716797 seconds\n"
     ]
    }
   ],
   "source": [
    "import multiprocessing,time,datetime\n",
    "\n",
    "\n",
    "def process1():\n",
    "    t1 = random.randint(1,5)\n",
    "    print(\"Waiting for \"+str(t1)+\" seconds\")\n",
    "    time.sleep(t1)\n",
    "    print(datetime.datetime.now())\n",
    "\n",
    "\n",
    "start = time.time()\n",
    "process1 = multiprocessing.Process()\n",
    "process2 = multiprocessing.Process()\n",
    "process3 = multiprocessing.Process()\n",
    "\n",
    "print(datetime.datetime.now())\n",
    "if __name__==\"__main__\":\n",
    "    \n",
    "    \n",
    "    \n",
    "    p1 = multiprocessing.Process(target=process1)\n",
    "    p2 = multiprocessing.Process(target=process2)\n",
    "    p3 = multiprocessing.Process(target=process3)\n",
    "\n",
    "    p1.start()\n",
    "    p2.start()\n",
    "    p3.start()\n",
    "\n",
    "    p1.join()\n",
    "    p2.join()\n",
    "    p3.join()\n",
    "\n",
    "end = time.time()\n",
    "    \n",
    "print(\"It takes \" +str(end-start)+\" seconds\")\n"
   ]
  },
  {
   "cell_type": "markdown",
   "id": "51a1fce8",
   "metadata": {},
   "source": [
    "**Q7**. Create a date object of your day of birth.\n",
    "\n",
    "**Answer**:-"
   ]
  },
  {
   "cell_type": "code",
   "execution_count": 15,
   "id": "cc1e15d6",
   "metadata": {},
   "outputs": [
    {
     "data": {
      "text/plain": [
       "datetime.date(1997, 6, 7)"
      ]
     },
     "execution_count": 15,
     "metadata": {},
     "output_type": "execute_result"
    }
   ],
   "source": [
    "my_date = date(1997, 6, 7)\n",
    "my_date"
   ]
  },
  {
   "cell_type": "markdown",
   "id": "6b15cf2d",
   "metadata": {},
   "source": [
    "**Q8**. What day of the week was your day of birth?\n",
    "\n",
    "**Answer**:-"
   ]
  },
  {
   "cell_type": "code",
   "execution_count": 16,
   "id": "2f683ffd",
   "metadata": {},
   "outputs": [
    {
     "data": {
      "text/plain": [
       "5"
      ]
     },
     "execution_count": 16,
     "metadata": {},
     "output_type": "execute_result"
    }
   ],
   "source": [
    "my_date.weekday()"
   ]
  },
  {
   "cell_type": "markdown",
   "id": "0143d2d3",
   "metadata": {},
   "source": [
    "**Q9**. When will you be (or when were you) 10,000 days old?\n",
    "\n",
    "**Answer**:-"
   ]
  },
  {
   "cell_type": "code",
   "execution_count": 17,
   "id": "a90d698b",
   "metadata": {},
   "outputs": [
    {
     "data": {
      "text/plain": [
       "datetime.date(2024, 10, 23)"
      ]
     },
     "execution_count": 17,
     "metadata": {},
     "output_type": "execute_result"
    }
   ],
   "source": [
    "from datetime import timedelta\n",
    "day10000 = my_date + timedelta(days = 10000)\n",
    "day10000"
   ]
  }
 ],
 "metadata": {
  "kernelspec": {
   "display_name": "Python 3 (ipykernel)",
   "language": "python",
   "name": "python3"
  },
  "language_info": {
   "codemirror_mode": {
    "name": "ipython",
    "version": 3
   },
   "file_extension": ".py",
   "mimetype": "text/x-python",
   "name": "python",
   "nbconvert_exporter": "python",
   "pygments_lexer": "ipython3",
   "version": "3.9.7"
  }
 },
 "nbformat": 4,
 "nbformat_minor": 5
}

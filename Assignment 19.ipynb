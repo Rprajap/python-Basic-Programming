{
 "cells": [
  {
   "cell_type": "markdown",
   "id": "be6be715",
   "metadata": {},
   "source": [
    "**Q1**. Create a function that takes a string and returns a string in which each character is repeated once.\n",
    "\n",
    "Examples\n",
    "\n",
    "double_char(\"String\") ➞ \"SSttrriinngg\"\\ double_char(\"Hello World\") ➞ \"HHeelllloo WWoorrlldd!!\"\\ doublechar(\"1234! \") ➞ \"11223344!!__ \"\n",
    "\n",
    "**Answer**:-"
   ]
  },
  {
   "cell_type": "code",
   "execution_count": 5,
   "id": "897e4add",
   "metadata": {},
   "outputs": [
    {
     "name": "stdout",
     "output_type": "stream",
     "text": [
      "Enter a String : Hello World\n",
      "HHeelllloo  WWoorrlldd\n"
     ]
    }
   ],
   "source": [
    "def double_char(str):\n",
    "    return ''.join([c+c for c in str])\n",
    "str=input('Enter a String : ')\n",
    "print(double_char(str))"
   ]
  },
  {
   "cell_type": "markdown",
   "id": "35095ec3",
   "metadata": {},
   "source": [
    "**Q2**. Create a function that reverses a boolean value and returns the string \"boolean expected\" if another variable type is given.\n",
    "\n",
    "Examples\n",
    "\n",
    "reverse(True) ➞ False\\ reverse(False) ➞ True\\ reverse(0) ➞ \"boolean expected\"\\ reverse(None) ➞ \"boolean expected\"\n",
    "\n",
    "**Answer**:-"
   ]
  },
  {
   "cell_type": "code",
   "execution_count": 7,
   "id": "367b03dd",
   "metadata": {},
   "outputs": [
    {
     "name": "stdout",
     "output_type": "stream",
     "text": [
      "False\n",
      "True\n",
      "boolean expected\n",
      "boolean expected\n"
     ]
    }
   ],
   "source": [
    "def reverse(x):\n",
    "    return not x if type(x) == bool else \"boolean expected\"\n",
    "\n",
    "print(reverse(True)) # False\n",
    "print(reverse(False)) # True\n",
    "print(reverse(0)) # \"boolean expected\"\n",
    "print(reverse(None)) # \"boolean expected\""
   ]
  },
  {
   "cell_type": "markdown",
   "id": "895f3201",
   "metadata": {},
   "source": [
    "**Q3**. Create a function that returns the thickness (in meters) of a piece of paper after folding it n number of times. The paper starts off with a thickness of 0.5mm.\n",
    "\n",
    "Examples\n",
    "\n",
    "num_layers(1) ➞ \"0.001m\"\\\n",
    "Paper folded once is 1mm (equal to 0.001m)\n",
    "\n",
    "num_layers(4) ➞ \"0.008m\"\\\n",
    "Paper folded 4 times is 8mm (equal to 0.008m)\n",
    "\n",
    "num_layers(21) ➞ \"1048.576m\"\\\n",
    "Paper folded 21 times is 1048576mm (equal to 1048.576m)\n",
    "\n",
    "**Answer**:-"
   ]
  },
  {
   "cell_type": "code",
   "execution_count": 8,
   "id": "7d0621ee",
   "metadata": {},
   "outputs": [
    {
     "name": "stdout",
     "output_type": "stream",
     "text": [
      "Enter a Number of Fold: 4\n",
      "The thikness of pease of peaper after 4 fold is 0.008 mm\n"
     ]
    }
   ],
   "source": [
    "def num_layers(n):\n",
    "    return 2**n*0.5/1000\n",
    "n=int(input('Enter a Number of Fold: '))\n",
    "\n",
    "print('The thikness of pease of peaper after' ,n, 'fold is',num_layers(n),'mm')"
   ]
  },
  {
   "cell_type": "markdown",
   "id": "6e4c45ba",
   "metadata": {},
   "source": [
    "**Q4**. Create a function that takes a single string as argument and returns an ordered list containing the indices of all capital letters in the string.\n",
    "\n",
    "Examples\n",
    "\n",
    "index_of_caps(\"eDaBiT\") ➞ [1, 3, 5]\\ index_of_caps(\"eQuINoX\") ➞ [1, 3, 4, 6]\\ index_of_caps(\"determine\") ➞ []\\ index_of_caps(\"STRIKE\") ➞ [0, 1, 2, 3, 4, 5]\\ index_of_caps(\"sUn\") ➞ [1]\n",
    "\n",
    "**Answer**:-"
   ]
  },
  {
   "cell_type": "code",
   "execution_count": 14,
   "id": "8193d156",
   "metadata": {},
   "outputs": [
    {
     "name": "stdout",
     "output_type": "stream",
     "text": [
      "[1, 3, 5]\n",
      "[1, 3, 4, 6]\n",
      "[]\n",
      "[0, 1, 2, 3, 4, 5]\n",
      "[1]\n"
     ]
    }
   ],
   "source": [
    "def index_of_caps(word):\n",
    "    indices = []\n",
    "    for i in range(len(word)):\n",
    "        if word[i].isupper():\n",
    "             indices.append(i)\n",
    "    return indices\n",
    "\n",
    "print(index_of_caps('eDaBiT'))\n",
    "print(index_of_caps('eQuINoX')) \n",
    "print(index_of_caps('determine'))\n",
    "print(index_of_caps('STRIKE'))\n",
    "print(index_of_caps('sUn'))"
   ]
  },
  {
   "cell_type": "markdown",
   "id": "299e9847",
   "metadata": {},
   "source": [
    "**Q5**. Using list comprehensions, create a function that finds all even numbers from 1 to the given number.\n",
    "\n",
    "Examples\n",
    "\n",
    "find_even_nums(8) ➞ [2, 4, 6, 8]\\ find_even_nums(4) ➞ [2, 4]\\ find_even_nums(2) ➞ [2]\n",
    "\n",
    "**Answer**:-"
   ]
  },
  {
   "cell_type": "code",
   "execution_count": 17,
   "id": "5d8c3db8",
   "metadata": {},
   "outputs": [
    {
     "name": "stdout",
     "output_type": "stream",
     "text": [
      "Enter a number to print Even Number:8\n"
     ]
    },
    {
     "data": {
      "text/plain": [
       "[2, 4, 6, 8]"
      ]
     },
     "execution_count": 17,
     "metadata": {},
     "output_type": "execute_result"
    }
   ],
   "source": [
    "def find_even_nums(n):\n",
    "    even_num=[x for x in range(2,n+1) if x%2==0]\n",
    "    return even_num\n",
    "n=int(input('Enter a number to print Even Number:'))\n",
    "find_even_nums(n)"
   ]
  },
  {
   "cell_type": "code",
   "execution_count": null,
   "id": "45fd6724",
   "metadata": {},
   "outputs": [],
   "source": []
  },
  {
   "cell_type": "code",
   "execution_count": null,
   "id": "2211b4e0",
   "metadata": {},
   "outputs": [],
   "source": []
  }
 ],
 "metadata": {
  "kernelspec": {
   "display_name": "Python 3 (ipykernel)",
   "language": "python",
   "name": "python3"
  },
  "language_info": {
   "codemirror_mode": {
    "name": "ipython",
    "version": 3
   },
   "file_extension": ".py",
   "mimetype": "text/x-python",
   "name": "python",
   "nbconvert_exporter": "python",
   "pygments_lexer": "ipython3",
   "version": "3.9.7"
  }
 },
 "nbformat": 4,
 "nbformat_minor": 5
}

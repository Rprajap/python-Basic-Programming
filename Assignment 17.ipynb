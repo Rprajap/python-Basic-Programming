{
 "cells": [
  {
   "cell_type": "markdown",
   "id": "8fbcb474",
   "metadata": {},
   "source": [
    "**Q1** Create a function that takes three arguments a, b, c and returns the sum of the numbers that are evenly divided by c from the range a, b inclusive.\n",
    "\n",
    "Examples\n",
    "\n",
    "evenly_divisible(1, 10, 20) ➞ 0\\\n",
    "No number between 1 and 10 can be evenly divided by 20.\n",
    "\n",
    "evenly_divisible(1, 10, 2) ➞ 30\\\n",
    "2 + 4 + 6 + 8 + 10 = 30\n",
    "\n",
    "evenly_divisible(1, 10, 3) ➞ 18\\\n",
    "3 + 6 + 9 = 18\n",
    "\n",
    "**Answer**:-"
   ]
  },
  {
   "cell_type": "code",
   "execution_count": 1,
   "id": "23900631",
   "metadata": {},
   "outputs": [
    {
     "name": "stdout",
     "output_type": "stream",
     "text": [
      "Enter value for a : 1\n",
      "Enter value for b : 20\n",
      "Enter value for c : 5\n",
      "50\n"
     ]
    }
   ],
   "source": [
    "def evenly_divisible(a, b, c):     \n",
    "    sum = 0\n",
    "    for i in range(a, b + 1): \n",
    "        if (i % c == 0):\n",
    "            sum += i \n",
    "    return sum\n",
    "\n",
    "a = int(input('Enter value for a : '))\n",
    "b = int(input('Enter value for b : '))\n",
    "c = int(input('Enter value for c : '))\n",
    "\n",
    "print(evenly_divisible(a, b, c))"
   ]
  },
  {
   "cell_type": "markdown",
   "id": "2187ec62",
   "metadata": {},
   "source": [
    "**Q2** Create a function that returns True if a given inequality expression is correct and False otherwise.\n",
    "\n",
    "Examples\n",
    "\n",
    "correct_signs(\"3 < 7 < 11\") ➞ True\\ correct_signs(\"13 > 44 > 33 > 1\") ➞ False\\ correct_signs(\"1 < 2 < 6 < 6 < 9 > 3\") ➞ True\n",
    "\n",
    "**Answer**:-"
   ]
  },
  {
   "cell_type": "code",
   "execution_count": 3,
   "id": "816cc33f",
   "metadata": {},
   "outputs": [
    {
     "name": "stdout",
     "output_type": "stream",
     "text": [
      "Enter a Expression : 1 < 2 < 6 < 6 < 9 > 3\n",
      "False\n"
     ]
    }
   ],
   "source": [
    "def correct_signs ( expression ) : \n",
    "    return eval (expression)\n",
    "\n",
    "txt= input('Enter a Expression : ')\n",
    "print(correct_signs(txt))\n"
   ]
  },
  {
   "cell_type": "markdown",
   "id": "2bf7b3e8",
   "metadata": {},
   "source": [
    "**Q3** Create a function that replaces all the vowels in a string with a specified character.\n",
    "\n",
    "Examples\n",
    "\n",
    "replace_vowels(\"the aardvark\", \"#\") ➞ \"h# ##rdv#rk\"\\ replace_vowels(\"minnie mouse\", \"?\") ➞ \"m?nn?? m??s?\"\\ replace_vowels(\"shakespeare\", \"\") ➞ \"shksp**r\"\n",
    "\n",
    "**Answer**:-"
   ]
  },
  {
   "cell_type": "code",
   "execution_count": 5,
   "id": "b4649818",
   "metadata": {},
   "outputs": [
    {
     "name": "stdout",
     "output_type": "stream",
     "text": [
      "enter a string : the aardvark\n",
      "enter a  replacing character : #\n",
      "\n",
      "Given Sting : the aardvark\n",
      "Given Specified Character : #\n",
      "Afer replacing vowels with the specified character : th# ##rdv#rk\n"
     ]
    }
   ],
   "source": [
    "def ReplaceVowels(str, s):\n",
    "    vowels = 'AEIOUaeiou'\n",
    "    for i in vowels:  \n",
    "        str = str.replace(i, s)  \n",
    "    return str\n",
    "  \n",
    "input_str = input(\"enter a string : \")\n",
    "s = input(\"enter a  replacing character : \")\n",
    "\n",
    "print(\"\\nGiven Sting :\", input_str)\n",
    "print(\"Given Specified Character :\", s)\n",
    "print(\"Afer replacing vowels with the specified character :\", ReplaceVowels(input_str, s))"
   ]
  },
  {
   "cell_type": "markdown",
   "id": "478cf2d0",
   "metadata": {},
   "source": [
    "**Q4** Write a function that calculates the factorial of a number recursively.\n",
    "\n",
    "Examples\n",
    "\n",
    "factorial(5) ➞ 120\\ factorial(3) ➞ 6\\ factorial(1) ➞ 1\\ factorial(0) ➞ 1\n",
    "\n",
    "**Answer**:-"
   ]
  },
  {
   "cell_type": "code",
   "execution_count": 1,
   "id": "b22b89f3",
   "metadata": {},
   "outputs": [
    {
     "name": "stdout",
     "output_type": "stream",
     "text": [
      "Enter a Number to calculate its Factorial :5\n",
      "factorial  of 5 is 120\n"
     ]
    }
   ],
   "source": [
    "def factorial(x):\n",
    "    if x==0:\n",
    "        return 1\n",
    "    else:\n",
    "        return x*factorial(x-1)\n",
    "x= int(input('Enter a Number to calculate its Factorial :' )) \n",
    "print(f\"factorial  of\" ,x, \"is\", factorial(x))"
   ]
  },
  {
   "cell_type": "markdown",
   "id": "7f07e4fd",
   "metadata": {},
   "source": [
    "**Q5** Hamming distance is the number of characters that differ between two strings.\n",
    "\n",
    "To illustrate:\n",
    "\n",
    "String1: \"abcbba\" String2: \"abcbda\"\n",
    "\n",
    "Hamming Distance: 1 - \"b\" vs. \"d\" is the only difference.\n",
    "\n",
    "Create a function that computes the hamming distance between two strings.\n",
    "\n",
    "Examples\n",
    "\n",
    "hamming_distance(\"abcde\", \"bcdef\") ➞ 5\\ hamming_distance(\"abcde\", \"abcde\") ➞ 0\\ hamming_distance(\"strong\", \"strung\") ➞ 1\n",
    "\n",
    "**Answer**:-"
   ]
  },
  {
   "cell_type": "code",
   "execution_count": 1,
   "id": "6df7f1fb",
   "metadata": {},
   "outputs": [
    {
     "name": "stdout",
     "output_type": "stream",
     "text": [
      "Enter string 1 : abcde\n",
      "Enter string 2 : bcdef\n",
      "Hamming Distance of abcde and bcdef is 5\n"
     ]
    }
   ],
   "source": [
    "def hamming_distance(str1, str2):\n",
    "    i = 0\n",
    "    count = 0\n",
    " \n",
    "    while(i < len(str1)):\n",
    "        if(str1[i] != str2[i]):\n",
    "            count += 1\n",
    "        i += 1\n",
    "    return count\n",
    " \n",
    "# Driver code \n",
    "#str1 = \"abcde\"\n",
    "#str2 = \"bcdef\"\n",
    "str1 = str(input(\"Enter string 1 : \"))\n",
    "str2 = str(input(\"Enter string 2 : \"))\n",
    " \n",
    "# function call\n",
    "hamming_distance(str1, str2)\n",
    "\n",
    "#result\n",
    "print(f\"Hamming Distance of\" ,str1, \"and\" ,str2,\"is\" , hamming_distance(str1, str2))"
   ]
  }
 ],
 "metadata": {
  "kernelspec": {
   "display_name": "Python 3 (ipykernel)",
   "language": "python",
   "name": "python3"
  },
  "language_info": {
   "codemirror_mode": {
    "name": "ipython",
    "version": 3
   },
   "file_extension": ".py",
   "mimetype": "text/x-python",
   "name": "python",
   "nbconvert_exporter": "python",
   "pygments_lexer": "ipython3",
   "version": "3.9.7"
  }
 },
 "nbformat": 4,
 "nbformat_minor": 5
}

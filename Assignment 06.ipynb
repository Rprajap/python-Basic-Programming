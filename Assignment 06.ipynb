{
 "cells": [
  {
   "cell_type": "markdown",
   "id": "a5e1b773",
   "metadata": {},
   "source": [
    "**Q1** Write a Python Program to Display Fibonacci Sequence Using Recursion?\n",
    "\n",
    "**Answer**:-"
   ]
  },
  {
   "cell_type": "code",
   "execution_count": 1,
   "id": "b18814f7",
   "metadata": {},
   "outputs": [
    {
     "name": "stdout",
     "output_type": "stream",
     "text": [
      "Enter a number for Fibonacci sequence :10\n",
      "Fibonacci sequence:\n",
      "0\n",
      "1\n",
      "1\n",
      "2\n",
      "3\n",
      "5\n",
      "8\n",
      "13\n",
      "21\n",
      "34\n"
     ]
    }
   ],
   "source": [
    "# Python program to display the Fibonacci sequence\n",
    "\n",
    "def recur_fibo(n):\n",
    "    if n <= 1:\n",
    "        return n\n",
    "    else:\n",
    "        return(recur_fibo(n-1) + recur_fibo(n-2))\n",
    "\n",
    "nterms = int(input('Enter a number for Fibonacci sequence :'))\n",
    "\n",
    "# check if the number of terms is valid\n",
    "if nterms <= 0:\n",
    "    print(\"Plese enter a positive integer\")\n",
    "else:\n",
    "    print(\"Fibonacci sequence:\")\n",
    "    for i in range(nterms):\n",
    "        print(recur_fibo(i))"
   ]
  },
  {
   "cell_type": "markdown",
   "id": "b7332ede",
   "metadata": {},
   "source": [
    "**Q2** Write a Python Program to Find Factorial of Number Using Recursion?\n",
    "\n",
    "**Answer**:-"
   ]
  },
  {
   "cell_type": "code",
   "execution_count": 2,
   "id": "8f49182c",
   "metadata": {},
   "outputs": [
    {
     "name": "stdout",
     "output_type": "stream",
     "text": [
      "Enter a Number for Factorial : 4\n",
      "The factorial of 4 is 24\n"
     ]
    }
   ],
   "source": [
    "# Factorial of a number using recursion\n",
    "\n",
    "def recur_factorial(n):\n",
    "    if n == 1:\n",
    "        return n\n",
    "    else:\n",
    "        return n*recur_factorial(n-1)\n",
    "\n",
    "num = int(input('Enter a Number for Factorial : '))\n",
    "\n",
    "# check if the number is negative\n",
    "if num < 0:\n",
    "    print(\"Sorry, factorial does not exist for negative numbers\")\n",
    "elif num == 0:\n",
    "    print(\"The factorial of 0 is 1\")\n",
    "else:\n",
    "    print(\"The factorial of\", num, \"is\", recur_factorial(num))"
   ]
  },
  {
   "cell_type": "markdown",
   "id": "a539b0cd",
   "metadata": {},
   "source": [
    "**Q3** Write a Python Program to calculate your Body Mass Index?\n",
    "\n",
    "**Answer**:-"
   ]
  },
  {
   "cell_type": "code",
   "execution_count": 6,
   "id": "235bb93a",
   "metadata": {},
   "outputs": [
    {
     "name": "stdout",
     "output_type": "stream",
     "text": [
      "Enter your height in meter: 1.67\n",
      "Enter your weight in kg : 70\n",
      "Your BMI is 25.099501595611173\n"
     ]
    }
   ],
   "source": [
    "# BMI= wt in kg/ height^2(in meter)\n",
    "height = float(input(\"Enter your height in meter: \"))\n",
    "weight = float(input(\"Enter your weight in kg : \"))\n",
    "\n",
    "BMI = weight / (height)**2\n",
    "print(f\"Your BMI is {BMI}\")"
   ]
  },
  {
   "cell_type": "markdown",
   "id": "96213d45",
   "metadata": {},
   "source": [
    "**Q4** Write a Python Program to calculate the natural logarithm of any number?\n",
    "\n",
    "**Answer**:-"
   ]
  },
  {
   "cell_type": "code",
   "execution_count": 13,
   "id": "c2749439",
   "metadata": {},
   "outputs": [
    {
     "name": "stdout",
     "output_type": "stream",
     "text": [
      "Enter a Number for natural logarithm : 100\n",
      "natural logarithm of number is 4.605170185988092\n"
     ]
    }
   ],
   "source": [
    "import math\n",
    "num=int(input('Enter a Number for natural logarithm : '))\n",
    "print('natural logarithm of number is', math.log(num))"
   ]
  },
  {
   "cell_type": "markdown",
   "id": "9b362216",
   "metadata": {},
   "source": [
    "**Q5** 5.\tWrite a Python Program for cube sum of first n natural numbers?\n",
    "\n",
    "**Answer**:-"
   ]
  },
  {
   "cell_type": "code",
   "execution_count": 16,
   "id": "61becf1c",
   "metadata": {},
   "outputs": [
    {
     "name": "stdout",
     "output_type": "stream",
     "text": [
      "Enter a number: 5\n",
      "cube sum of first n natural numbers is 225\n"
     ]
    }
   ],
   "source": [
    "def sumOfSeries(n):\n",
    "    sum = 0\n",
    "    for i in range(1, n+1):\n",
    "        sum +=i*i*i\n",
    "    return sum\n",
    "num=int(input('Enter a number: ')) \n",
    "print('cube sum of first n natural numbers is',sumOfSeries(num))"
   ]
  }
 ],
 "metadata": {
  "kernelspec": {
   "display_name": "Python 3 (ipykernel)",
   "language": "python",
   "name": "python3"
  },
  "language_info": {
   "codemirror_mode": {
    "name": "ipython",
    "version": 3
   },
   "file_extension": ".py",
   "mimetype": "text/x-python",
   "name": "python",
   "nbconvert_exporter": "python",
   "pygments_lexer": "ipython3",
   "version": "3.9.7"
  }
 },
 "nbformat": 4,
 "nbformat_minor": 5
}

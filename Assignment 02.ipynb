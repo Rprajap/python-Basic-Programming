{
 "cells": [
  {
   "cell_type": "markdown",
   "id": "f0cc2044",
   "metadata": {},
   "source": [
    "**Q1**. Write a Python program to convert kilometers to miles?\n",
    "\n",
    "**Answer**:-"
   ]
  },
  {
   "cell_type": "code",
   "execution_count": 4,
   "id": "9af6ef44",
   "metadata": {},
   "outputs": [
    {
     "name": "stdout",
     "output_type": "stream",
     "text": [
      "Enter valur in kilometer is:10\n",
      "10.0 kilometer  is Equal to 6.21371 miles\n"
     ]
    }
   ],
   "source": [
    "kilometer=float(input('Enter valur in kilometer is:'))\n",
    "conv_fac=0.621371\n",
    "miles=kilometer*conv_fac\n",
    "print(f\"{kilometer } kilometer  is Equal to {miles} miles\")"
   ]
  },
  {
   "cell_type": "markdown",
   "id": "9d5c5b40",
   "metadata": {},
   "source": [
    "**Q2**. Write a Python program to convert Celsius to Fahrenheit?\n",
    "\n",
    "**Answer**:-"
   ]
  },
  {
   "cell_type": "code",
   "execution_count": 7,
   "id": "e0c953b4",
   "metadata": {},
   "outputs": [
    {
     "name": "stdout",
     "output_type": "stream",
     "text": [
      "Enter Temperature value in celsius:25\n",
      "25.0 Celsius  is Equal to 77.0 Fahrenheit\n"
     ]
    }
   ],
   "source": [
    "Celsius=float(input('Enter Temperature value in celsius:'))\n",
    "Fahrenheit=(Celsius*(9/5))+32\n",
    "print(f\"{Celsius} Celsius  is Equal to {Fahrenheit} Fahrenheit\")\n",
    "                    "
   ]
  },
  {
   "cell_type": "markdown",
   "id": "fbd6c17a",
   "metadata": {},
   "source": [
    "**Q3**. Write a Python program to display calendar?\n",
    "\n",
    "**Answer**:-"
   ]
  },
  {
   "cell_type": "code",
   "execution_count": 8,
   "id": "bf94cf69",
   "metadata": {},
   "outputs": [
    {
     "name": "stdout",
     "output_type": "stream",
     "text": [
      "Enter year: 2022\n",
      "Enter month: 8\n",
      "    August 2022\n",
      "Mo Tu We Th Fr Sa Su\n",
      " 1  2  3  4  5  6  7\n",
      " 8  9 10 11 12 13 14\n",
      "15 16 17 18 19 20 21\n",
      "22 23 24 25 26 27 28\n",
      "29 30 31\n",
      "\n"
     ]
    }
   ],
   "source": [
    "# Program to display calendar of the given month and year\n",
    "# importing calendar module\n",
    "import calendar\n",
    "# To take month and year input from the user\n",
    "yy = int(input(\"Enter year: \"))\n",
    "mm = int(input(\"Enter month: \"))\n",
    "\n",
    "# display the calendar\n",
    "print(calendar.month(yy, mm))"
   ]
  },
  {
   "cell_type": "markdown",
   "id": "7349286e",
   "metadata": {},
   "source": [
    "**Q4**. Write a Python program to solve quadratic equation?\n",
    "\n",
    "**Answer**:-"
   ]
  },
  {
   "cell_type": "code",
   "execution_count": 9,
   "id": "e3faf0e8",
   "metadata": {},
   "outputs": [
    {
     "name": "stdout",
     "output_type": "stream",
     "text": [
      "The solution are (-3+0j) and (-2+0j)\n"
     ]
    }
   ],
   "source": [
    "# Solve the quadratic equation ax**2 + bx + c = 0\n",
    "\n",
    "# import complex math module\n",
    "import cmath\n",
    "\n",
    "a = 1\n",
    "b = 5\n",
    "c = 6\n",
    "\n",
    "# calculate the discriminant\n",
    "d = (b**2) - (4*a*c)\n",
    "\n",
    "# find two solutions\n",
    "sol1 = (-b-cmath.sqrt(d))/(2*a)\n",
    "sol2 = (-b+cmath.sqrt(d))/(2*a)\n",
    "\n",
    "print('The solution are {0} and {1}'.format(sol1,sol2))"
   ]
  },
  {
   "cell_type": "markdown",
   "id": "cdd1d8dc",
   "metadata": {},
   "source": [
    "**Q5**. Write a Python program to swap two variables without temp variable?\n",
    "\n",
    "**Answer**:-"
   ]
  },
  {
   "cell_type": "code",
   "execution_count": 10,
   "id": "2b0e5a41",
   "metadata": {},
   "outputs": [
    {
     "name": "stdout",
     "output_type": "stream",
     "text": [
      "Enter a value for x is : 20\n",
      "Enter a value for y is : 30\n",
      "Before swapping the value is : \n",
      "Value of x is :  20 and y is :  30\n",
      "After swapping the value is : \n",
      "Value of x is :  30 and y is :  20\n"
     ]
    }
   ],
   "source": [
    "x = input(\"Enter a value for x is : \")\n",
    "y = input(\"Enter a value for y is : \")\n",
    "\n",
    "print('Before swapping the value is : ')\n",
    "print('Value of x is : ', x, 'and y is : ',y)\n",
    "\n",
    "x, y = y, x\n",
    "\n",
    "print('After swapping the value is : ')\n",
    "print('Value of x is : ', x, 'and y is : ',y)"
   ]
  }
 ],
 "metadata": {
  "kernelspec": {
   "display_name": "Python 3 (ipykernel)",
   "language": "python",
   "name": "python3"
  },
  "language_info": {
   "codemirror_mode": {
    "name": "ipython",
    "version": 3
   },
   "file_extension": ".py",
   "mimetype": "text/x-python",
   "name": "python",
   "nbconvert_exporter": "python",
   "pygments_lexer": "ipython3",
   "version": "3.9.7"
  }
 },
 "nbformat": 4,
 "nbformat_minor": 5
}

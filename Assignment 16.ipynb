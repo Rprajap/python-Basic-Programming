{
 "cells": [
  {
   "cell_type": "markdown",
   "id": "8b898227",
   "metadata": {},
   "source": [
    "**Q1** Write a function that stutters a word as if someone is struggling to read it. The first two letters are repeated twice with an ellipsis ... and space after each, and then the word is pronounced with a question mark ?.\n",
    "\n",
    "Examples\n",
    "\n",
    "stutter(incredible) ➞ \"in... in... incredible?\"\\ stutter(enthusiastic) ➞ \"en... en... enthusiastic?\"\\ stutter(outstanding) ➞ \"ou... ou... outstanding?\"\n",
    "\n",
    "Hint :- Assume all input is in lower case and at least two characters long.\n",
    "\n",
    "**Answer**:-"
   ]
  },
  {
   "cell_type": "code",
   "execution_count": 1,
   "id": "d2cafeac",
   "metadata": {},
   "outputs": [
    {
     "name": "stdout",
     "output_type": "stream",
     "text": [
      "Enter word : enthusiastic\n",
      "en... en... enthusiastic?\n"
     ]
    }
   ],
   "source": [
    "def Stutter(word):\n",
    "    return (2*(word[:2]+'... '))+word+'?'\n",
    "\n",
    "word = input('Enter word : ')\n",
    "\n",
    "print(Stutter(word))"
   ]
  },
  {
   "cell_type": "markdown",
   "id": "4da38a04",
   "metadata": {},
   "source": [
    "**Q2** Create a function that takes an angle in radians and returns the corresponding angle in degrees rounded to one decimal place.\n",
    "\n",
    "Examples\n",
    "\n",
    "radians_to_degrees(1) ➞ 57.3\\ radians_to_degrees(20) ➞ 1145.9\\ radians_to_degrees(50) ➞ 2864.8\n",
    "\n",
    "**Answer**:-"
   ]
  },
  {
   "cell_type": "code",
   "execution_count": 4,
   "id": "2662b7c5",
   "metadata": {},
   "outputs": [
    {
     "name": "stdout",
     "output_type": "stream",
     "text": [
      "Enter the Radian Value : 10\n",
      "degree = 572.7\n"
     ]
    }
   ],
   "source": [
    "# Function for convertion\n",
    "def Radians_to_Degrees(radian):\n",
    "    pi = 22/7\n",
    "    \n",
    "    #formula\n",
    "    degree = radian * (180/pi)\n",
    "    return round(degree,1)\n",
    "\n",
    "radian = float(input('Enter the Radian Value : '))\n",
    "\n",
    "print(\"degree =\",(Radians_to_Degrees(radian)))"
   ]
  },
  {
   "cell_type": "markdown",
   "id": "d3d742f9",
   "metadata": {},
   "source": [
    "**Q3**. In this challenge, establish if a given integer num is a Curzon number. If 1 plus 2 elevated to num is exactly divisible by 1 plus 2 multiplied by num, then num is a Curzon number. Given a non-negative integer num, implement a function that returns True if num is a Curzon number, or False otherwise.\n",
    "\n",
    "Examples\n",
    "\n",
    "is_curzon(5) ➞ True\\\n",
    "\n",
    "2 ** 5 + 1 = 33\\\n",
    "\n",
    "2 * 5 + 1 = 11\\\n",
    "\n",
    "33 is a multiple of 11\n",
    "\n",
    "is_curzon(10) ➞ False\\\n",
    "\n",
    "2 ** 10 + 1 = 1025\\\n",
    "\n",
    "2 * 10 + 1 = 21\\\n",
    "\n",
    "1025 is not a multiple of 21\n",
    "\n",
    "is_curzon(14) ➞ True\\\n",
    "\n",
    "2 ** 14 + 1 = 16385\\\n",
    "\n",
    "2 * 14 + 1 = 29\\\n",
    "\n",
    "16385 is a multiple of 29\n",
    "\n",
    "**Answer**:-"
   ]
  },
  {
   "cell_type": "code",
   "execution_count": 5,
   "id": "62df4b35",
   "metadata": {},
   "outputs": [
    {
     "name": "stdout",
     "output_type": "stream",
     "text": [
      "Enter a positive number : 14\n",
      "14 is Curzon Number\n"
     ]
    }
   ],
   "source": [
    "def CheckIfCurzonNumber(n):\n",
    " \n",
    "    power, product = 0, 0\n",
    " \n",
    "    # Find 2**n + 1\n",
    "    power = pow(2, n) + 1\n",
    " \n",
    "    # Find 2*n + 1\n",
    "    product = 2 * n + 1\n",
    " \n",
    "    # Check for divisibility\n",
    "    if (power % product == 0):\n",
    "        print(n, \"is Curzon Number\")\n",
    "    else:\n",
    "        print(n, \"is not a Curzon Number\")\n",
    "        \n",
    "n = int(input('Enter a positive number : '))\n",
    "\n",
    "CheckIfCurzonNumber(n)"
   ]
  },
  {
   "cell_type": "markdown",
   "id": "787fab2b",
   "metadata": {},
   "source": [
    "**Q4** Given the side length x find the area of a hexagon.\n",
    "\n",
    "hexagon.jpg\n",
    "\n",
    "Examples\n",
    "\n",
    "area_of_hexagon(1) ➞ 2.6\\ area_of_hexagon(2) ➞ 10.4\\ area_of_hexagon(3) ➞ 23.4\n",
    "\n",
    "**Answer**:-"
   ]
  },
  {
   "cell_type": "code",
   "execution_count": 10,
   "id": "b3abfebd",
   "metadata": {},
   "outputs": [
    {
     "name": "stdout",
     "output_type": "stream",
     "text": [
      "Enter the length of the side:\n",
      "2\n",
      "Area of the Hexagon =  10.4\n"
     ]
    }
   ],
   "source": [
    "import math\n",
    "print(\"Enter the length of the side:\")\n",
    "a=int(input())\n",
    "area=round((3*math.sqrt(3)*math.pow(a,2))/2.0,1)\n",
    "print(\"Area of the Hexagon = \",area)"
   ]
  },
  {
   "cell_type": "markdown",
   "id": "05e8bfe6",
   "metadata": {},
   "source": [
    "**Q5** Create a function that returns a base-2 (binary) representation of a base-10 (decimal) string number. To convert is simple: ((2) means base-2 and (10) means base-10) 010101001(2) = 1 + 8 + 32 + 128.\n",
    "\n",
    "Going from right to left, the value of the most right bit is 1, now from that every bit to the left will be x2 the value, value of an 8 bit binary numbers are (256, 128, 64, 32, 16, 8, 4, 2, 1).\n",
    "\n",
    "Examples\n",
    "\n",
    "binary(1) ➞ \"1\"\\\n",
    "1*1 = 1\n",
    "\n",
    "binary(5) ➞ \"101\"\\\n",
    "11 + 14 = 5\n",
    "\n",
    "binary(10) ➞ \"1010\"\\\n",
    "12 + 18 = 10\n",
    "\n",
    "**Answer**:-"
   ]
  },
  {
   "cell_type": "code",
   "execution_count": 27,
   "id": "a567b635",
   "metadata": {},
   "outputs": [
    {
     "name": "stdout",
     "output_type": "stream",
     "text": [
      "1\n",
      "101\n",
      "1010\n"
     ]
    }
   ],
   "source": [
    "def decimal_to_binary(n):\n",
    "    return bin(n).replace('0b',\"\")\n",
    "\n",
    "print(decimal_to_binary(1))\n",
    "print(decimal_to_binary(5))\n",
    "print(decimal_to_binary(10))"
   ]
  }
 ],
 "metadata": {
  "kernelspec": {
   "display_name": "Python 3 (ipykernel)",
   "language": "python",
   "name": "python3"
  },
  "language_info": {
   "codemirror_mode": {
    "name": "ipython",
    "version": 3
   },
   "file_extension": ".py",
   "mimetype": "text/x-python",
   "name": "python",
   "nbconvert_exporter": "python",
   "pygments_lexer": "ipython3",
   "version": "3.9.7"
  }
 },
 "nbformat": 4,
 "nbformat_minor": 5
}

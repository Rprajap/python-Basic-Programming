{
 "cells": [
  {
   "cell_type": "markdown",
   "id": "aa04f3b0",
   "metadata": {},
   "source": [
    "**Q1**:-1.\tWrite a Python Program to Find the Factorial of a Number?\n",
    "    \n",
    "**Answer**:-"
   ]
  },
  {
   "cell_type": "code",
   "execution_count": 1,
   "id": "e9b2bb5a",
   "metadata": {},
   "outputs": [
    {
     "name": "stdout",
     "output_type": "stream",
     "text": [
      "Enter a Value:1\n",
      "Factorial of 1 is 1\n"
     ]
    }
   ],
   "source": [
    "def factorial(n):\n",
    "    if n < 0:\n",
    "        return 0\n",
    "    elif n == 0 or n == 1:\n",
    "        return 1\n",
    "    else:\n",
    "        fact = 1\n",
    "        while(n > 1):\n",
    "            fact *= n\n",
    "            n -= 1\n",
    "        return fact\n",
    "\n",
    "num =int(input('Enter a Value:'))\n",
    "print(\"Factorial of\",num,\"is\",\n",
    "factorial(num))\n",
    "\n",
    "\n",
    "#import math\n",
    " \n",
    "#def factorial(n):\n",
    "    #return(math.factorial(n))\n",
    " \n",
    " \n",
    "# Driver Code\n",
    "#num = 5\n",
    "#print(\"Factorial of\", num, \"is\",\n",
    "      #factorial(num))\n",
    " "
   ]
  },
  {
   "cell_type": "markdown",
   "id": "8108ec68",
   "metadata": {},
   "source": [
    "**Q2**:-Write a Python Program to Display the multiplication Table?\n",
    "\n",
    "**Answer**:-\n",
    "    "
   ]
  },
  {
   "cell_type": "code",
   "execution_count": 2,
   "id": "784ba493",
   "metadata": {},
   "outputs": [
    {
     "name": "stdout",
     "output_type": "stream",
     "text": [
      "Display multiplication table of 2\n",
      "2 x 1 = 2\n",
      "2 x 2 = 4\n",
      "2 x 3 = 6\n",
      "2 x 4 = 8\n",
      "2 x 5 = 10\n",
      "2 x 6 = 12\n",
      "2 x 7 = 14\n",
      "2 x 8 = 16\n",
      "2 x 9 = 18\n",
      "2 x 10 = 20\n"
     ]
    }
   ],
   "source": [
    "# Multiplication table (from 1 to 10) in Python\n",
    "\n",
    "num = int(input(\"Display multiplication table of \"))\n",
    "\n",
    "# Iterate 10 times from i = 1 to 10\n",
    "for i in range(1, 11):\n",
    "   print(f\"{num} x {i} = {num*i}\")"
   ]
  },
  {
   "cell_type": "markdown",
   "id": "49b7f8a0",
   "metadata": {},
   "source": [
    "**Q3** Write a Python Program to Print the Fibonacci sequence?\n",
    "\n",
    "**Answer**:-"
   ]
  },
  {
   "cell_type": "code",
   "execution_count": 1,
   "id": "69acf192",
   "metadata": {},
   "outputs": [
    {
     "name": "stdout",
     "output_type": "stream",
     "text": [
      "How many number of terms to print of fibonacci sequence : 4\n",
      "0\n",
      "1\n",
      "1\n",
      "2\n"
     ]
    }
   ],
   "source": [
    "def FibonacciSeq():\n",
    "    '''\n",
    "    This function will print n terms of a fibonacci sequence.\n",
    "    '''\n",
    "    Nth_Terms = int(input(\"How many number of terms to print of fibonacci sequence : \"))\n",
    "    Num1 = 0\n",
    "    Num2 = 1\n",
    "    \n",
    "    if Nth_Terms < 0:\n",
    "        print(f\"Enter a positive integer, The given {Nth_Terms} is not valid.\")\n",
    "    else :    \n",
    "        for i in range(Nth_Terms):\n",
    "            print(Num1)\n",
    "            Num1, Num2 = Num2 , Num1 + Num2\n",
    "            \n",
    "FibonacciSeq()"
   ]
  },
  {
   "cell_type": "markdown",
   "id": "c8f47dbc",
   "metadata": {},
   "source": [
    "**Q4** Write a Python Program to Check Armstrong Number?\n",
    "\n",
    "**Answer**:-"
   ]
  },
  {
   "cell_type": "code",
   "execution_count": 10,
   "id": "62cb00e6",
   "metadata": {},
   "outputs": [
    {
     "name": "stdout",
     "output_type": "stream",
     "text": [
      "Enter a Number:102\n",
      "102 is not an Armstrong number\n"
     ]
    }
   ],
   "source": [
    "num = int(input('Enter a Number:'))\n",
    "\n",
    "# Changed num variable to string, \n",
    "# and calculated the length (number of digits)\n",
    "order = len(str(num))\n",
    "\n",
    "# initialize sum\n",
    "sum = 0\n",
    "\n",
    "# find the sum of each digit\n",
    "temp = num\n",
    "while temp > 0:\n",
    "    digit = temp % 10\n",
    "    sum += digit ** order\n",
    "    temp //= 10\n",
    "\n",
    "# display the result\n",
    "if num == sum:\n",
    "    print(num,\"is an Armstrong number\")\n",
    "else:\n",
    "    print(num,\"is not an Armstrong number\")"
   ]
  },
  {
   "cell_type": "markdown",
   "id": "67d7935a",
   "metadata": {},
   "source": [
    "**Q5** Write a Python Program to Find Armstrong Number in an Interval?\n",
    "\n",
    "**Answer**:-"
   ]
  },
  {
   "cell_type": "code",
   "execution_count": 1,
   "id": "3caac55c",
   "metadata": {},
   "outputs": [
    {
     "name": "stdout",
     "output_type": "stream",
     "text": [
      "Enter lower limit for interval: 100\n",
      "Enter upper limit for interval: 1000\n",
      "153\n",
      "370\n",
      "371\n",
      "407\n"
     ]
    }
   ],
   "source": [
    "lower=int(input('Enter lower limit for interval: '))\n",
    "upper=int(input('Enter upper limit for interval: '))\n",
    "for num in range(lower, upper + 1):\n",
    "    \n",
    "   # order of number\n",
    "    order = len(str(num))\n",
    "    \n",
    "   # initialize sum\n",
    "    sum = 0\n",
    "\n",
    "    temp = num\n",
    "    while temp > 0:\n",
    "        digit = temp % 10\n",
    "        sum += digit ** order\n",
    "        temp //= 10\n",
    "\n",
    "    if num == sum:\n",
    "        print(num)\n"
   ]
  },
  {
   "cell_type": "markdown",
   "id": "0785d35a",
   "metadata": {},
   "source": [
    "**Q6** Write a Python Program to Find the Sum of Natural Numbers?\n",
    "\n",
    "**Answer**:-"
   ]
  },
  {
   "cell_type": "code",
   "execution_count": 17,
   "id": "f576ee78",
   "metadata": {},
   "outputs": [
    {
     "name": "stdout",
     "output_type": "stream",
     "text": [
      "Enter a natural number for sum is:25\n",
      "The sum is 325\n"
     ]
    }
   ],
   "source": [
    "def recur_sum(n):\n",
    "    if n <= 1:\n",
    "        return n\n",
    "    else:\n",
    "        return n + recur_sum(n-1)\n",
    "\n",
    "# change this value for a different result\n",
    "num = int(input('Enter a natural number for sum is:'))\n",
    "\n",
    "if num < 0:\n",
    "    print(\"Enter a positive number\")\n",
    "else:\n",
    "    print(\"The sum is\",recur_sum(num))"
   ]
  }
 ],
 "metadata": {
  "kernelspec": {
   "display_name": "Python 3 (ipykernel)",
   "language": "python",
   "name": "python3"
  },
  "language_info": {
   "codemirror_mode": {
    "name": "ipython",
    "version": 3
   },
   "file_extension": ".py",
   "mimetype": "text/x-python",
   "name": "python",
   "nbconvert_exporter": "python",
   "pygments_lexer": "ipython3",
   "version": "3.9.7"
  }
 },
 "nbformat": 4,
 "nbformat_minor": 5
}
